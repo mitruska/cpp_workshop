{
 "cells": [
  {
   "cell_type": "markdown",
   "id": "e499847c-ad51-4a05-82e5-86daeea0016c",
   "metadata": {
    "tags": []
   },
   "source": [
    "## Introduction to C++"
   ]
  },
  {
   "cell_type": "code",
   "execution_count": 1,
   "id": "3b545ea2-96b2-4def-b178-6d2ed29dafc9",
   "metadata": {
    "tags": []
   },
   "outputs": [],
   "source": [
    "#include <iostream> // For std::cout\n",
    "#include <vector> // For std::vector"
   ]
  },
  {
   "cell_type": "markdown",
   "id": "39d74671-5286-4829-a755-525d0e04b97b",
   "metadata": {
    "tags": []
   },
   "source": [
    "# [Lambda expressions](https://en.cppreference.com/w/cpp/language/lambda)"
   ]
  },
  {
   "cell_type": "markdown",
   "id": "9269e228-9f38-4201-9b21-df57c0f69c12",
   "metadata": {
    "jp-MarkdownHeadingCollapsed": true,
    "tags": []
   },
   "source": [
    "## Basic lambda syntax"
   ]
  },
  {
   "cell_type": "markdown",
   "id": "82193178-8b1c-4adc-95a9-70fb1706285d",
   "metadata": {
    "tags": []
   },
   "source": [
    "```\n",
    "[ captures ] ( params ) { body }\n",
    "\n",
    "Example:\n",
    "auto lambda_name = [] (int a, int b) { return a + b; };\n",
    "```\n",
    "\n",
    "- *captures* - define how to handle outside variables\n",
    "- *params* - list of parameters, passing to the lambda with each call (like in regular functions)\n",
    "- *body* - logic of the lambda (like function body)"
   ]
  },
  {
   "cell_type": "code",
   "execution_count": 2,
   "id": "4cf12eff-7e28-409c-b77e-d3a767f37463",
   "metadata": {
    "tags": []
   },
   "outputs": [
    {
     "name": "stdout",
     "output_type": "stream",
     "text": [
      "3, \n",
      "2.5, \n",
      "Hello world, \n"
     ]
    }
   ],
   "source": [
    "auto print = [](const auto& element){\n",
    "    std::cout << element << \", \" << std::endl;\n",
    "};\n",
    "print(3);\n",
    "print(2.5);\n",
    "print(\"Hello world\");"
   ]
  },
  {
   "cell_type": "code",
   "execution_count": 3,
   "id": "2239e632-0703-4aa8-ba25-da7d6a9e31ca",
   "metadata": {
    "tags": []
   },
   "outputs": [],
   "source": [
    "auto sum = [](int a, int b) { return a + b; };\n",
    "\n",
    "int a_b = sum(5, 9);"
   ]
  },
  {
   "cell_type": "code",
   "execution_count": 4,
   "id": "91dffda4-f88c-4939-9421-6c6902d4dbec",
   "metadata": {
    "tags": []
   },
   "outputs": [
    {
     "name": "stdout",
     "output_type": "stream",
     "text": [
      "4\n",
      "6\n",
      "4\n",
      "6\n",
      "4\n",
      "6\n"
     ]
    }
   ],
   "source": [
    "// Capture by copy\n",
    "{\n",
    "    int a = 6;\n",
    "    auto sub_copy = [=](int b) { return a - b; };\n",
    "    std::cout << sub_copy(2) << std::endl; // result: 4, 'a' variable stays unchanged\n",
    "    std::cout << a << std::endl; // a: 6, 'a' variable unchanged\n",
    "\n",
    "    std::cout << sub_copy(2) << std::endl; // the same result: 4, 'a' variable stays unchanged\n",
    "    std::cout << a << std::endl; // a: 6\n",
    "    \n",
    "    std::cout << sub_copy(2) << std::endl; // the same result: 4, 'a' variable stays unchanged\n",
    "    std::cout << a << std::endl; // a: 6\n",
    "}"
   ]
  },
  {
   "cell_type": "code",
   "execution_count": 5,
   "id": "5289d995-792b-41e3-9d3a-476e849d00bf",
   "metadata": {
    "tags": []
   },
   "outputs": [
    {
     "name": "stdout",
     "output_type": "stream",
     "text": [
      "4\n",
      "4\n",
      "2\n",
      "2\n",
      "0\n",
      "0\n"
     ]
    }
   ],
   "source": [
    "// Capture by reference\n",
    "{\n",
    "    int a = 6;\n",
    "    auto sub_ref = [&](int b) { return a -= b; };\n",
    "    std::cout << sub_ref(2) << std::endl; // result: 4, 'a' variable is updated\n",
    "    std::cout << a << std::endl; // a: 4\n",
    "\n",
    "    std::cout << sub_ref(2) << std::endl; // result: 2, 'a' variable is updated\n",
    "    std::cout << a << std::endl; // a: 2\n",
    "    \n",
    "    std::cout << sub_ref(2) << std::endl; // result: 0, 'a' variable is updated\n",
    "    std::cout << a << std::endl; // a: 0\n",
    "}"
   ]
  },
  {
   "cell_type": "markdown",
   "id": "700335cb-bae7-44bb-8ac0-fffe07ccb202",
   "metadata": {
    "tags": []
   },
   "source": [
    "# [Algorithms library](https://en.cppreference.com/w/cpp/algorithm)"
   ]
  },
  {
   "cell_type": "code",
   "execution_count": 6,
   "id": "ca625efe-a258-4ab2-9972-8c6e34560e84",
   "metadata": {
    "tags": []
   },
   "outputs": [],
   "source": [
    "#include <algorithm> // For algorithms"
   ]
  },
  {
   "cell_type": "markdown",
   "id": "12bee303-eafc-4ad0-a354-ffc7b2c90a40",
   "metadata": {
    "jp-MarkdownHeadingCollapsed": true,
    "tags": []
   },
   "source": [
    "## [std::for_each](https://en.cppreference.com/w/cpp/algorithm/for_each)"
   ]
  },
  {
   "cell_type": "code",
   "execution_count": 7,
   "id": "8ce0d096-98ba-4c41-8fcf-d8db56539669",
   "metadata": {
    "tags": []
   },
   "outputs": [
    {
     "name": "stdout",
     "output_type": "stream",
     "text": [
      "0, 1, 2, 3, "
     ]
    }
   ],
   "source": [
    "{\n",
    "    std::vector<int> numbers{0, 1, 2, 3};\n",
    "    auto print = [](const auto& element){\n",
    "        std::cout << element << \", \";\n",
    "    };\n",
    "\n",
    "    // For each element in the range call the \"function\"\n",
    "    // Example: For each element in the range call print\n",
    "    std::for_each(numbers.cbegin(), numbers.cend(), print);\n",
    "}"
   ]
  },
  {
   "cell_type": "code",
   "execution_count": 8,
   "id": "dd106843-1cc2-4750-989a-c82333d2567e",
   "metadata": {
    "tags": []
   },
   "outputs": [
    {
     "name": "stdout",
     "output_type": "stream",
     "text": [
      "0, 1, 2, 3, "
     ]
    }
   ],
   "source": [
    "{\n",
    "    std::vector<int> numbers{0, 1, 2, 3};\n",
    "    \n",
    "    // Pass the lambda directly\n",
    "    // Example: For each element in the range call the lambda\n",
    "    std::for_each(std::cbegin(numbers), std::cend(numbers), [](const auto& element){std::cout << element << \", \";});\n",
    "}"
   ]
  },
  {
   "cell_type": "code",
   "execution_count": 9,
   "id": "718ff345-e893-4711-ba83-0d7c5de0f26d",
   "metadata": {
    "tags": []
   },
   "outputs": [
    {
     "name": "stdout",
     "output_type": "stream",
     "text": [
      "0, 1, 2, 3, 0, 1, 2, 3, "
     ]
    }
   ],
   "source": [
    "{\n",
    "    std::vector<int> nums{0, 1, 2, 3};\n",
    "\n",
    "    // Simple loop\n",
    "    for (auto it = std::cbegin(nums); it < std::cend(nums); it++) {\n",
    "        std::cout << *it << \", \";\n",
    "    }\n",
    "\n",
    "    // Equivalent std::for_each\n",
    "    std::for_each(std::cbegin(nums), std::cend(nums), [](const auto& element){std::cout << element << \", \";});\n",
    "}"
   ]
  },
  {
   "cell_type": "code",
   "execution_count": 10,
   "id": "fe4aa8c5-2c53-4824-8326-588c57a85669",
   "metadata": {
    "tags": []
   },
   "outputs": [],
   "source": [
    "template <typename T>\n",
    "void print_elements(const T& container) {\n",
    "    std::for_each(std::cbegin(container), std::cend(container), \n",
    "                  [](const auto& element){std::cout << element << \", \";});\n",
    "}"
   ]
  },
  {
   "cell_type": "code",
   "execution_count": 11,
   "id": "5e4f3095-2840-4765-8d87-76e33c4d24f6",
   "metadata": {
    "tags": []
   },
   "outputs": [
    {
     "name": "stdout",
     "output_type": "stream",
     "text": [
      "0, 1, 2, 3, "
     ]
    }
   ],
   "source": [
    "{\n",
    "    std::vector<int> elements{0, 1, 2, 3};\n",
    "    print_elements(elements);\n",
    "}"
   ]
  },
  {
   "cell_type": "code",
   "execution_count": 12,
   "id": "58c099fb-abe7-485a-9d38-a1cc1046fcbe",
   "metadata": {
    "tags": []
   },
   "outputs": [
    {
     "name": "stdout",
     "output_type": "stream",
     "text": [
      "1, 2, 3, 5, "
     ]
    }
   ],
   "source": [
    "#include <set>\n",
    "{\n",
    "    std::vector<int> duplicated_numbers{5, 2, 2, 1, 3};\n",
    "    std::set<int> unique_numbers(duplicated_numbers.begin(), duplicated_numbers.end());\n",
    "    print_elements(unique_numbers);\n",
    "}"
   ]
  },
  {
   "cell_type": "markdown",
   "id": "6c6526b9-657c-40a3-a963-244d9b0d253d",
   "metadata": {
    "jp-MarkdownHeadingCollapsed": true,
    "tags": []
   },
   "source": [
    "## [std::find, std::find_if](https://en.cppreference.com/w/cpp/algorithm/find)"
   ]
  },
  {
   "cell_type": "code",
   "execution_count": 13,
   "id": "1ff048f8-3dc1-4068-805c-71ec72f8805a",
   "metadata": {
    "tags": []
   },
   "outputs": [
    {
     "name": "stdout",
     "output_type": "stream",
     "text": [
      "The element was found: 6, the element position: 4\n",
      "The element 13 wasn't found :( \n"
     ]
    }
   ],
   "source": [
    "// Returns an iterator to the first element in the range [first, last) that satisfies specific criteria\n",
    "// If there is no element satisfying the criteria, it returns iterator provided as last.\n",
    "{\n",
    "    std::vector<int> numbers{3, 5, 2, 1, 6, 7, 2, 6, 4};\n",
    "    int elem_to_find = 6;\n",
    "\n",
    "    auto elem_it  = std::find(std::cbegin(numbers), std::cend(numbers), elem_to_find);\n",
    "    if (elem_it != std::cend(numbers)) {\n",
    "        std::cout << \"The element was found: \" << *elem_it;\n",
    "        std::cout << \", the element position: \" << std::distance(std::cbegin(numbers), elem_it) << std::endl;\n",
    "    } else { \n",
    "        std::cout << \"The element \" << elem_to_find << \" wasn't found :( \" << std::endl;\n",
    "    }\n",
    "    \n",
    "    elem_to_find = 13;\n",
    "    elem_it  = std::find(std::cbegin(numbers), std::cend(numbers), elem_to_find);\n",
    "    if (elem_it != std::cend(numbers)) {\n",
    "        std::cout << \" The element was found: \" << *elem_it << std::endl;\n",
    "    } else { \n",
    "        std::cout << \"The element \" << elem_to_find << \" wasn't found :( \" << std::endl;\n",
    "    }    \n",
    "\n",
    "}"
   ]
  },
  {
   "cell_type": "code",
   "execution_count": 14,
   "id": "8998d53c-d9d9-4be9-ac9b-acfd2e5649b6",
   "metadata": {
    "tags": []
   },
   "outputs": [
    {
     "name": "stdout",
     "output_type": "stream",
     "text": [
      "The first odd element: 3\n",
      "The first even element: 2\n"
     ]
    }
   ],
   "source": [
    "// Returns an iterator to the first element in the range [first, last) that satisfies specific criteria\n",
    "// If there is no element satisfying the criteria, it returns iterator provided as last.\n",
    "{\n",
    "    std::vector<int> numbers{3, 5, 2, 1, 6, 7, 2, 6, 4};\n",
    "\n",
    "    auto odd_elem_it  = std::find_if(std::cbegin(numbers), std::cend(numbers), [](int num){return num % 2 == 1;});\n",
    "    std::cout << \"The first odd element: \" << *odd_elem_it << std::endl;\n",
    "    \n",
    "    auto even_elem_it  = std::find_if(std::cbegin(numbers), std::cend(numbers), [](int num){return num % 2 == 0;});\n",
    "    std::cout << \"The first even element: \" << *even_elem_it << std::endl;\n",
    "}"
   ]
  },
  {
   "cell_type": "code",
   "execution_count": 15,
   "id": "49bf3f99-394c-4df8-8169-a57954d9ff05",
   "metadata": {
    "tags": []
   },
   "outputs": [
    {
     "name": "stdout",
     "output_type": "stream",
     "text": [
      "The last odd element: 7\n",
      "The last even element: 4\n"
     ]
    }
   ],
   "source": [
    "// Reverse iterator can be used to find the last element\n",
    "{\n",
    "    std::vector<int> numbers{3, 5, 2, 1, 6, 7, 2, 6, 4};\n",
    "\n",
    "    auto odd_elem_it  = std::find_if(std::crbegin(numbers), std::crend(numbers), [](int num){return num % 2 == 1;});\n",
    "    std::cout << \"The last odd element: \" << *odd_elem_it << std::endl;\n",
    "    \n",
    "    auto even_elem_it  = std::find_if(std::crbegin(numbers), std::crend(numbers), [](int num){return num % 2 == 0;});\n",
    "    std::cout << \"The last even element: \" << *even_elem_it << std::endl;\n",
    "}"
   ]
  },
  {
   "cell_type": "markdown",
   "id": "d5131785-aa40-4900-93e7-c645665b83b7",
   "metadata": {
    "jp-MarkdownHeadingCollapsed": true,
    "tags": []
   },
   "source": [
    "## [std::all_of, std::any_of, std::none_of](https://en.cppreference.com/w/cpp/algorithm/all_any_none_of)"
   ]
  },
  {
   "cell_type": "code",
   "execution_count": 16,
   "id": "9e5e3ce2-8bb8-4cbc-ab98-a2787d9d2078",
   "metadata": {
    "tags": []
   },
   "outputs": [
    {
     "name": "stdout",
     "output_type": "stream",
     "text": [
      "True: All of the elements are equal to zero. \n"
     ]
    }
   ],
   "source": [
    "// Example of std::all_of\n",
    "{\n",
    "    std::vector<int> numbers(3); // {0, 0, 0}\n",
    "    if (std::all_of(std::cbegin(numbers), std::cend(numbers), [](int num){return num == 0;})) { \n",
    "        std::cout << \"True: All of the elements are equal to zero. \" << std::endl;\n",
    "    }\n",
    "}"
   ]
  },
  {
   "cell_type": "code",
   "execution_count": 17,
   "id": "bfc65e9b-a877-4541-a6cb-f541c9944da5",
   "metadata": {
    "tags": []
   },
   "outputs": [
    {
     "name": "stdout",
     "output_type": "stream",
     "text": [
      "True: At least one element is not equal to zero. \n"
     ]
    }
   ],
   "source": [
    "// Example of std::any_of\n",
    "{\n",
    "    std::vector<int> numbers{0, 1, 0};\n",
    "    if (std::any_of(std::cbegin(numbers), std::cend(numbers), [](int num){return num == 1;})) { \n",
    "        std::cout << \"True: At least one element is not equal to zero. \" << std::endl;\n",
    "    }\n",
    "}"
   ]
  },
  {
   "cell_type": "code",
   "execution_count": 18,
   "id": "8802c3cb-498c-46e7-bf46-b055bf562477",
   "metadata": {
    "tags": []
   },
   "outputs": [
    {
     "name": "stdout",
     "output_type": "stream",
     "text": [
      "True: No elements equal to 3 \n"
     ]
    }
   ],
   "source": [
    "// Example of std::none_of\n",
    "{\n",
    "    std::vector<int> numbers{0, 1, 0};\n",
    "    if (std::none_of(std::cbegin(numbers), std::cend(numbers), [](int num){return num == 3;})) { \n",
    "        std::cout << \"True: No elements equal to 3 \" << std::endl;\n",
    "    }\n",
    "}"
   ]
  },
  {
   "cell_type": "markdown",
   "id": "c18f990a-4662-4542-bd76-7bab554f80be",
   "metadata": {
    "jp-MarkdownHeadingCollapsed": true,
    "tags": []
   },
   "source": [
    "## [std::count, std::count_if](https://en.cppreference.com/w/cpp/algorithm/count)"
   ]
  },
  {
   "cell_type": "code",
   "execution_count": 19,
   "id": "60a4000b-6519-4586-a694-4e1b2431723b",
   "metadata": {
    "tags": []
   },
   "outputs": [
    {
     "name": "stdout",
     "output_type": "stream",
     "text": [
      "The number of elements equal to zero: 2\n"
     ]
    }
   ],
   "source": [
    "// Example of code without std::count\n",
    "{\n",
    "    std::vector<int> numbers{0, 1, 0};\n",
    "    int zero_count = 0;\n",
    "    for (int i=0; i < numbers.size(); ++i) {\n",
    "        if (numbers[i] == 0) {\n",
    "            zero_count++; // sum = sum + 1\n",
    "        }\n",
    "    }\n",
    "    std::cout << \"The number of elements equal to zero: \" << zero_count << std::endl;\n",
    "}"
   ]
  },
  {
   "cell_type": "code",
   "execution_count": 20,
   "id": "2c2fa735-c6ea-4fb0-9721-81784e648244",
   "metadata": {
    "tags": []
   },
   "outputs": [
    {
     "name": "stdout",
     "output_type": "stream",
     "text": [
      "The number of elements equal to zero: 2\n"
     ]
    }
   ],
   "source": [
    "// Example usage of std::count\n",
    "{\n",
    "    std::vector<int> numbers{0, 1, 0};\n",
    "    auto zero_count = std::count(std::cbegin(numbers), std::cend(numbers), 0); \n",
    "    std::cout << \"The number of elements equal to zero: \" << zero_count << std::endl;\n",
    "}"
   ]
  },
  {
   "cell_type": "code",
   "execution_count": 21,
   "id": "21a4c286-d719-4386-a780-1bd2e05bf651",
   "metadata": {
    "tags": []
   },
   "outputs": [
    {
     "name": "stdout",
     "output_type": "stream",
     "text": [
      "The number of elements equal to zero: 2\n"
     ]
    }
   ],
   "source": [
    "// The same example with std::count_if\n",
    "{\n",
    "    std::vector<int> numbers{0, 1, 0};\n",
    "    auto zero_count  = std::count_if(std::cbegin(numbers), std::cend(numbers), [](int num){return num == 0;});\n",
    "    std::cout << \"The number of elements equal to zero: \" << zero_count << std::endl;\n",
    "}"
   ]
  },
  {
   "cell_type": "code",
   "execution_count": 22,
   "id": "d52a9472-a3d5-450d-a9e3-5264f07661a4",
   "metadata": {
    "tags": []
   },
   "outputs": [
    {
     "name": "stdout",
     "output_type": "stream",
     "text": [
      "The number of odd elements: 4\n",
      "The number of even elements: 5\n",
      "The vector size: 9\n"
     ]
    }
   ],
   "source": [
    "// Example of std::count_if\n",
    "{\n",
    "    std::vector<int> numbers{3, 2, 5, 1, 6, 2, 4, 6, 5};\n",
    "\n",
    "    auto odd_count  = std::count_if(std::cbegin(numbers), std::cend(numbers), [](int num){return num % 2 == 1;});\n",
    "    std::cout << \"The number of odd elements: \" << odd_count << std::endl;\n",
    "    \n",
    "    auto even_count  = std::count_if(std::cbegin(numbers), std::cend(numbers), [](int num){return num % 2 == 0;});\n",
    "    std::cout << \"The number of even elements: \" << even_count << std::endl;\n",
    "    \n",
    "    std::cout << \"The vector size: \" << numbers.size() << std::endl;\n",
    "}"
   ]
  },
  {
   "cell_type": "markdown",
   "id": "cd5df94a-59d2-4606-a1d3-86c43d189c4d",
   "metadata": {
    "jp-MarkdownHeadingCollapsed": true,
    "tags": []
   },
   "source": [
    "## [std::min](https://en.cppreference.com/w/cpp/algorithm/min), [std::max](https://en.cppreference.com/w/cpp/algorithm/max), [std::min_element](https://en.cppreference.com/w/cpp/algorithm/min_element), [std::max_element](https://en.cppreference.com/w/cpp/algorithm/max_element)"
   ]
  },
  {
   "cell_type": "code",
   "execution_count": 23,
   "id": "4e3ca809-d7a6-4007-b1eb-578771b27d4f",
   "metadata": {
    "tags": []
   },
   "outputs": [
    {
     "name": "stdout",
     "output_type": "stream",
     "text": [
      "Min element: 2\n",
      "Max element: 4\n"
     ]
    }
   ],
   "source": [
    "{    \n",
    "    int a = 2;\n",
    "    int b = 4;\n",
    "\n",
    "    // std::min_element, std::max_element takes values to compare and return value\n",
    "    auto min_elem  = std::min(a, b);\n",
    "    auto max_elem  = std::max(a, b);\n",
    "\n",
    "    std::cout << \"Min element: \" << min_elem << std::endl;\n",
    "    std::cout << \"Max element: \" << max_elem << std::endl;\n",
    "}"
   ]
  },
  {
   "cell_type": "code",
   "execution_count": 24,
   "id": "4335253a-9460-48cf-a5c0-d91d8b434596",
   "metadata": {
    "tags": []
   },
   "outputs": [
    {
     "name": "stdout",
     "output_type": "stream",
     "text": [
      "Min element: 1\n",
      "Max element: 6\n"
     ]
    }
   ],
   "source": [
    "// Example of code without std::min_element\n",
    "{\n",
    "    std::vector<int> numbers{3, 2, 5, 1, 6, 2, 4, 6, 5};\n",
    "    int min_elem = numbers[0];\n",
    "    for (int i=0; i < numbers.size(); ++i) {\n",
    "        if (min_elem > numbers[i]) {\n",
    "            min_elem = numbers[i];\n",
    "        }\n",
    "    }\n",
    "    std::cout << \"Min element: \" << min_elem << std::endl;\n",
    "}\n",
    "\n",
    "// Example of code without std::max_element\n",
    "{\n",
    "    std::vector<int> numbers{3, 2, 5, 1, 6, 2, 4, 6, 5};\n",
    "    int max_element = numbers[0];\n",
    "    for (int i=0; i < numbers.size(); ++i) {\n",
    "        if (max_element < numbers[i]) {\n",
    "            max_element = numbers[i];\n",
    "        }\n",
    "    }\n",
    "    std::cout << \"Max element: \" << max_element << std::endl;\n",
    "}"
   ]
  },
  {
   "cell_type": "code",
   "execution_count": 25,
   "id": "9b54488f-0de2-4f65-8a7a-9485310bfa1b",
   "metadata": {
    "tags": []
   },
   "outputs": [
    {
     "name": "stdout",
     "output_type": "stream",
     "text": [
      "Min element: 1\n",
      "Max element: 6\n"
     ]
    }
   ],
   "source": [
    "{\n",
    "    std::vector<int> numbers{3, 2, 5, 1, 6, 2, 4, 6, 5};\n",
    "    \n",
    "    // std::min_element, std::max_element return iterator \n",
    "    auto min_elem_it  = std::min_element(numbers.cbegin(), numbers.cend());\n",
    "    auto max_elem_it  = std::max_element(numbers.cbegin(), numbers.cend());\n",
    "\n",
    "    std::cout << \"Min element: \" << *min_elem_it << std::endl;\n",
    "    std::cout << \"Max element: \" << *max_elem_it << std::endl;\n",
    "}"
   ]
  },
  {
   "cell_type": "markdown",
   "id": "1726727d-ebf2-43aa-8fcd-4e44da1a78d2",
   "metadata": {
    "jp-MarkdownHeadingCollapsed": true,
    "tags": []
   },
   "source": [
    "## [std::sort](https://en.cppreference.com/w/cpp/algorithm/sort)"
   ]
  },
  {
   "cell_type": "code",
   "execution_count": 26,
   "id": "f24ebdbf-16b4-4651-8ae6-d8044c0310d8",
   "metadata": {
    "tags": []
   },
   "outputs": [
    {
     "name": "stdout",
     "output_type": "stream",
     "text": [
      "\n",
      "Before sorting: \n",
      "3, 5, 2, 1, 6, 7, 2, 6, 4, \n",
      "After sorting (ascending): \n",
      "1, 2, 2, 3, 4, 5, 6, 6, 7, "
     ]
    }
   ],
   "source": [
    "// Sort elements, the elements are compared using comparator, by default operator \"<\"\n",
    "{\n",
    "    std::vector<int> numbers{3, 5, 2, 1, 6, 7, 2, 6, 4};\n",
    "    std::cout << \"\\nBefore sorting: \" << std::endl;\n",
    "    std::for_each(std::cbegin(numbers), std::cend(numbers), [](const auto& element){std::cout << element << \", \";});\n",
    "\n",
    "    // Sort elements (default, ascending) (1, 2, 3, ...)\n",
    "    std::sort(std::begin(numbers), std::end(numbers));\n",
    "    \n",
    "    // Print the vector\n",
    "    std::cout << \"\\nAfter sorting (ascending): \" << std::endl;    \n",
    "    std::for_each(std::cbegin(numbers), std::cend(numbers), [](const auto& element){std::cout << element << \", \";});\n",
    "    \n",
    "    // Constant iterator can't be used with std::sort\n",
    "    // std::sort(std::cbegin(numbers), std::cend(numbers)); // error:  error: cannot assign to return value because function 'operator*' returns a const value\n",
    "}"
   ]
  },
  {
   "cell_type": "code",
   "execution_count": 27,
   "id": "8e6ba58c-47a5-4751-ae8a-06bb0274c87d",
   "metadata": {
    "tags": []
   },
   "outputs": [
    {
     "name": "stdout",
     "output_type": "stream",
     "text": [
      "\n",
      "After sorting by lambda (descending): \n",
      "1, 2, 2, 3, 4, 5, 6, 6, 7, \n",
      "After sorting by functor (descending): \n",
      "1, 2, 2, 3, 4, 5, 6, 6, 7, "
     ]
    }
   ],
   "source": [
    "// Sort elements, the elements are compared using comparator\n",
    "{\n",
    "    std::vector<int> numbers{3, 5, 2, 1, 6, 7, 2, 6, 4};\n",
    "\n",
    "    // Sort elements (descending by lambda) (3, 2, 1, ...)\n",
    "    std::sort(std::begin(numbers), std::end(numbers), [](int a, int b){ return a < b;});\n",
    "    \n",
    "    // Print the vector\n",
    "    std::cout << \"\\nAfter sorting by lambda (descending): \" << std::endl;    \n",
    "    std::for_each(std::cbegin(numbers), std::cend(numbers), [](const auto& element){std::cout << element << \", \";});\n",
    "    \n",
    "    // Sort elements (descending by functor \"less\") (3, 2, 1, ...)\n",
    "    std::sort(std::begin(numbers), std::end(numbers), std::less<int>());\n",
    "\n",
    "    // Print the vector\n",
    "    std::cout << \"\\nAfter sorting by functor (descending): \" << std::endl;    \n",
    "    std::for_each(std::cbegin(numbers), std::cend(numbers), [](const auto& element){std::cout << element << \", \";});\n",
    "}"
   ]
  },
  {
   "cell_type": "markdown",
   "id": "06fcb7d4-02c0-4594-9952-1feb5de39746",
   "metadata": {
    "jp-MarkdownHeadingCollapsed": true,
    "tags": []
   },
   "source": [
    "## [std::accumulate](https://en.cppreference.com/w/cpp/algorithm/accumulate)"
   ]
  },
  {
   "cell_type": "code",
   "execution_count": 28,
   "id": "0a70cb6c-1d81-4e15-bc0d-49f74e2ecd73",
   "metadata": {
    "tags": []
   },
   "outputs": [
    {
     "name": "stdout",
     "output_type": "stream",
     "text": [
      "1, 2, 3, 4, \n",
      "Accumulate result: 10\n"
     ]
    }
   ],
   "source": [
    "// Example of std::accumulate\n",
    "{\n",
    "    std::vector<int> numbers{1, 2, 3, 4};\n",
    "    \n",
    "    // Sum (by default) of elements in the container\n",
    "    auto result = std::accumulate(numbers.cbegin(), numbers.cend(), 0);\n",
    "    \n",
    "    // Print elements and result\n",
    "    print_elements(numbers);\n",
    "    std::cout << \"\\nAccumulate result: \" << result << std::endl;\n",
    "}"
   ]
  },
  {
   "cell_type": "code",
   "execution_count": 29,
   "id": "0201a57a-9977-4a97-a71b-8aab3dd49108",
   "metadata": {
    "tags": []
   },
   "outputs": [],
   "source": [
    "#include <numeric> // for std::iota\n",
    "#include <functional> // for std::multiplies, std::plus"
   ]
  },
  {
   "cell_type": "code",
   "execution_count": 30,
   "id": "400e7fa1-e5b2-474d-b4ca-ea03ec5ee6de",
   "metadata": {
    "tags": []
   },
   "outputs": [
    {
     "name": "stdout",
     "output_type": "stream",
     "text": [
      "1, 2, 3, 4, 5, \n",
      "Accumulate result: 120\n"
     ]
    }
   ],
   "source": [
    "// Example of std::accumulate, lambda, std::iota\n",
    "// Integer values\n",
    "{\n",
    "    std::vector<int> numbers(5); // Size of the vector, filled with 0\n",
    "    std::iota(numbers.begin(), numbers.end(), 1); // Filling the vector with sequentially increasing values    \n",
    "    \n",
    "    // Multiplication of elements in the container\n",
    "    // Syntax: std::accumulate(begin, end, init_value, function(a, b))\n",
    "    auto result = std::accumulate(numbers.cbegin(), numbers.cend(), 1, [](int a, int b){return a * b;});\n",
    "    \n",
    "    // Print elements and result\n",
    "    print_elements(numbers);\n",
    "    std::cout << \"\\nAccumulate result: \" << result << std::endl;\n",
    "}"
   ]
  },
  {
   "cell_type": "code",
   "execution_count": 31,
   "id": "d474a5c1-0ddc-4b8f-8dd9-b0230f4b5802",
   "metadata": {
    "tags": []
   },
   "outputs": [
    {
     "name": "stdout",
     "output_type": "stream",
     "text": [
      "1, 2, 3, 4, 5, \n",
      "Accumulate result: 120\n"
     ]
    }
   ],
   "source": [
    "// Example of std::accumulate, std::multiplies, std::iota\n",
    "// Integer values\n",
    "{\n",
    "    \n",
    "    std::vector<int> numbers(5); // Size of the vector, filled with 0\n",
    "    std::iota(numbers.begin(), numbers.end(), 1); // Filling the vector with sequentially increasing values    \n",
    "    \n",
    "    // Multiplication of elements in the container\n",
    "    // Syntax: std::accumulate(begin, end, init_value, function(a, b))\n",
    "    auto result = std::accumulate(numbers.cbegin(), numbers.cend(), 1, std::multiplies());\n",
    "    \n",
    "    // Print elements and result\n",
    "    print_elements(numbers);\n",
    "    std::cout << \"\\nAccumulate result: \" << result << std::endl;\n",
    "}"
   ]
  },
  {
   "cell_type": "code",
   "execution_count": 32,
   "id": "0264ce2b-b421-432d-8a03-a244a5faf5f1",
   "metadata": {
    "jupyter": {
     "source_hidden": true
    },
    "tags": []
   },
   "outputs": [
    {
     "name": "stdout",
     "output_type": "stream",
     "text": [
      "1.5, 2.5, 3.5, 4.5, 5.5, \n",
      "Accumulate result: 324.844\n"
     ]
    }
   ],
   "source": [
    "// Example of std::accumulate, std::multiplies, std::iota\n",
    "// Float values\n",
    "{\n",
    "    std::vector<float> numbers_f(5); // Size of the vector, filled with 0.0f\n",
    "    std::iota(numbers_f.begin(), numbers_f.end(), 1.5); // Filling the vector with sequentially increasing values\n",
    "\n",
    "    // The type is deduced form init value, init by int when the elements are floating point is a common mistake\n",
    "    // auto result_f = std::accumulate(numbers_f.cbegin(), numbers_f.cend(), 1, std::multiplies());\n",
    "    auto result_f = std::accumulate(numbers_f.cbegin(), numbers_f.cend(), 1.0f, std::multiplies());\n",
    "    \n",
    "    // Print elements and result\n",
    "    print_elements(numbers_f);\n",
    "    std::cout << \"\\nAccumulate result: \" << result_f << std::endl;\n",
    "}"
   ]
  },
  {
   "cell_type": "markdown",
   "id": "b49a4daf-8613-47c5-bb8c-fdc790186d7e",
   "metadata": {
    "jp-MarkdownHeadingCollapsed": true,
    "tags": []
   },
   "source": [
    "## [std::transform](https://en.cppreference.com/w/cpp/algorithm/transform)"
   ]
  },
  {
   "cell_type": "code",
   "execution_count": 33,
   "id": "7904f593-d26c-46a1-b243-4bd3415ffb82",
   "metadata": {
    "tags": []
   },
   "outputs": [
    {
     "name": "stdout",
     "output_type": "stream",
     "text": [
      "3, 0, 5, 1, 0, 0, 7, 0, 5, "
     ]
    }
   ],
   "source": [
    "// Example of std::transform\n",
    "{\n",
    "    std::vector<int> numbers{3, 2, 5, 1, 6, 2, 7, 6, 5};\n",
    "\n",
    "    // Example, writing to the same container\n",
    "    std::transform(std::cbegin(numbers), std::cend(numbers), std::begin(numbers), [](int num){ if (num % 2 == 1) return num; else return 0;});\n",
    "    print_elements(numbers);\n",
    "}"
   ]
  },
  {
   "cell_type": "code",
   "execution_count": 34,
   "id": "b142842f-937e-4b77-9a7f-26a6803e60a4",
   "metadata": {
    "tags": []
   },
   "outputs": [
    {
     "name": "stdout",
     "output_type": "stream",
     "text": [
      "11, 22, 3, "
     ]
    }
   ],
   "source": [
    "// Example of std::transform\n",
    "{\n",
    "    std::vector<int> numbers_a{1, 2, 3, 4, 5, 6};\n",
    "    std::vector<int> numbers_b{10, 20};\n",
    "    std::vector<int> results{-1, -1, -1};\n",
    " \n",
    "\n",
    "    // Example add elements of two vectors (write to other container)\n",
    "    std::transform(std::cbegin(numbers_a), std::cend(numbers_a), \n",
    "                   std::cbegin(numbers_b), // No need to pass end of the second container (first range define the size) \n",
    "                   std::begin(results),\n",
    "                   [](int a, int b){ return a + b;});\n",
    "    print_elements(results);\n",
    "}"
   ]
  },
  {
   "cell_type": "code",
   "execution_count": 35,
   "id": "6419e3c7-c79e-4400-9157-6cf6562c62c2",
   "metadata": {
    "tags": []
   },
   "outputs": [
    {
     "name": "stdout",
     "output_type": "stream",
     "text": [
      "11, 22, 3, 4, 813064062, 6238470, -1, -1, -1, -1, "
     ]
    }
   ],
   "source": [
    "// Example of std::transform\n",
    "// Inequal size of the containers\n",
    "{\n",
    "    std::vector<int> numbers_a{1, 2, 3, 4, 5, 6};\n",
    "    std::vector<int> numbers_b{10, 20};\n",
    "    std::vector<int> results(10, -1); // {-1, -1, ..., -1, -1}\n",
    "    // std::vector<int> results; // error\n",
    " \n",
    "    // Example add elements of two vectors (write to other container)\n",
    "    std::transform(std::cbegin(numbers_a), std::cend(numbers_a), \n",
    "                   std::cbegin(numbers_b), // No need to pass end of the second container\n",
    "                   std::begin(results),\n",
    "                   [](int a, int b){ return a + b;});\n",
    "    print_elements(results);\n",
    "}"
   ]
  },
  {
   "cell_type": "code",
   "execution_count": 36,
   "id": "9e7e0b0a-02b0-4b34-9945-3ea2d68264f6",
   "metadata": {
    "tags": []
   },
   "outputs": [
    {
     "name": "stdout",
     "output_type": "stream",
     "text": [
      "11, 22, 33, 4, 1599340653, 6238553, "
     ]
    }
   ],
   "source": [
    "// Example of std::transform\n",
    "// Inequal size of the containers\n",
    "// std::back_inserter (https://en.cppreference.com/w/cpp/iterator/back_inserter)\n",
    "{\n",
    "    std::vector<int> numbers_a{1, 2, 3, 4, 5, 6};\n",
    "    std::vector<int> numbers_b{10, 20, 30};\n",
    "    std::vector<int> results;\n",
    " \n",
    "    // Example add elements of two vectors (write to other container)\n",
    "    std::transform(std::cbegin(numbers_a), std::cend(numbers_a), \n",
    "                   std::cbegin(numbers_b), // No need to pass end of the second container (first range define the size)\n",
    "                   std::back_inserter(results), // std::back_inserter, no need to care about resizing of the dst vector\n",
    "                   [](int a, int b){ return a + b;});\n",
    "    print_elements(results);\n",
    "}"
   ]
  },
  {
   "cell_type": "code",
   "execution_count": 37,
   "id": "9fadc836-c2e8-410c-b2e0-fdb69084c4a6",
   "metadata": {
    "tags": []
   },
   "outputs": [
    {
     "name": "stdout",
     "output_type": "stream",
     "text": [
      "11, 22, 33, "
     ]
    }
   ],
   "source": [
    "// Example of std::transform\n",
    "// Inequal size of the containers\n",
    "// std::back_inserter (https://en.cppreference.com/w/cpp/iterator/back_inserter)\n",
    "{\n",
    "    std::vector<int> numbers_a{1, 2, 3};\n",
    "    std::vector<int> numbers_b{10, 20, 30};\n",
    "    std::vector<int> results;\n",
    " \n",
    "    // Example add elements of two vectors (write to other container)\n",
    "    std::transform(std::cbegin(numbers_a), std::cend(numbers_a), \n",
    "                   std::cbegin(numbers_b), // No need to pass end of the second container (first range define the size)\n",
    "                   std::back_inserter(results), // std::back_inserter, no need to care about resizing of the dst vector\n",
    "                   [](int a, int b){ return a + b;});\n",
    "    print_elements(results);\n",
    "}"
   ]
  },
  {
   "cell_type": "code",
   "execution_count": 38,
   "id": "0a7c680e-7aa7-48f9-aeab-dd838cdd965b",
   "metadata": {
    "tags": []
   },
   "outputs": [
    {
     "name": "stdout",
     "output_type": "stream",
     "text": [
      "11, 22, 33, "
     ]
    }
   ],
   "source": [
    "// Example of std::transform\n",
    "// Equal size of the containers\n",
    "// std::back_inserter (https://en.cppreference.com/w/cpp/iterator/back_inserter)\n",
    "// std::plus\n",
    "{\n",
    "    std::vector<int> numbers_a{1, 2, 3};\n",
    "    std::vector<int> numbers_b{10, 20, 30};\n",
    "    std::vector<int> results;\n",
    " \n",
    "    // Example add elements of two vectors (write to other container)\n",
    "    std::transform(std::cbegin(numbers_a), std::cend(numbers_a), \n",
    "                   std::cbegin(numbers_b), // No need to pass end of the second container (first range define the size) \n",
    "                   std::back_inserter(results), // std::back_inserter, no need to care about resizing of the dst vector\n",
    "                   std::plus()); // std::plus instead of lambda\n",
    "    print_elements(results);\n",
    "}"
   ]
  },
  {
   "cell_type": "code",
   "execution_count": 39,
   "id": "b10792d3-26af-42c6-bb5a-e6f3ddad3b32",
   "metadata": {
    "tags": []
   },
   "outputs": [
    {
     "name": "stdout",
     "output_type": "stream",
     "text": [
      "1100, 2200, 3300, "
     ]
    }
   ],
   "source": [
    "// Example of std::transform\n",
    "// Inequal size of the containers\n",
    "{\n",
    "    std::vector<int> numbers_a{1, 2, 3};\n",
    "    std::vector<int> numbers_b{10, 20, 30};\n",
    "    std::vector<int> results;\n",
    " \n",
    "    int c = 100;\n",
    "    \n",
    "    // Example function on elements of two vectors (write to other container)\n",
    "    std::transform(std::cbegin(numbers_a), std::cend(numbers_a), \n",
    "                   std::cbegin(numbers_b), // No need to pass end of the second container (first range define the size)\n",
    "                   std::back_inserter(results), // std::back_inserter, no need to care about resizing of the dst vector\n",
    "                   [=](int a, int b){ return (a + b) * c;});\n",
    "    print_elements(results);\n",
    "}"
   ]
  }
 ],
 "metadata": {
  "kernelspec": {
   "display_name": "C++17",
   "language": "C++17",
   "name": "xcpp17"
  },
  "language_info": {
   "codemirror_mode": "text/x-c++src",
   "file_extension": ".cpp",
   "mimetype": "text/x-c++src",
   "name": "c++",
   "version": "17"
  },
  "toc-autonumbering": false
 },
 "nbformat": 4,
 "nbformat_minor": 5
}
