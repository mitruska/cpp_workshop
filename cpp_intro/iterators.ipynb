{
 "cells": [
  {
   "cell_type": "markdown",
   "id": "9b0061db-69e2-433a-9603-3b002b894a48",
   "metadata": {},
   "source": [
    "## Introduction to C++"
   ]
  },
  {
   "cell_type": "markdown",
   "id": "2dd9b6fd-72da-49e7-8e1a-e413abe3e3e5",
   "metadata": {
    "tags": []
   },
   "source": [
    "# Iterators"
   ]
  },
  {
   "cell_type": "markdown",
   "id": "c9916be4-74f2-4ec6-af9d-2af2c4848e3e",
   "metadata": {
    "tags": []
   },
   "source": [
    "- Iterator pattern: https://refactoring.guru/design-patterns/iterator\n",
    "- Iterator pattern example: https://refactoring.guru/design-patterns/iterator/cpp/example\n",
    "- Iterator library: https://en.cppreference.com/w/cpp/iterator"
   ]
  },
  {
   "cell_type": "markdown",
   "id": "73cb8f47-8af7-42ea-9ec2-d236f3ef3cbf",
   "metadata": {
    "tags": []
   },
   "source": [
    "Briefly:\n",
    "- Iterator is one of the behavioral design patterns, it provides common interface for traversing different data structures without exposing the underlying collection.\n",
    "<br>\n",
    "- Iterators in C++ are generalization of pointers that allows to operate with different containers in a uniform manner."
   ]
  },
  {
   "cell_type": "markdown",
   "id": "2081b7ba-eb5d-42e6-8cbe-c5f0666b591d",
   "metadata": {
    "tags": []
   },
   "source": [
    "## Begin and End\n"
   ]
  },
  {
   "cell_type": "markdown",
   "id": "2e799a1c-fec1-4d65-9e40-f903d380b857",
   "metadata": {
    "tags": []
   },
   "source": [
    "- std::begin https://en.cppreference.com/w/cpp/iterator/begin\n",
    "- std::end https://en.cppreference.com/w/cpp/iterator/end\n"
   ]
  },
  {
   "cell_type": "markdown",
   "id": "7b57c779-d623-420e-b63d-7b1c0509ac71",
   "metadata": {
    "tags": []
   },
   "source": [
    "<div iter>\n",
    "<img src=\"img/range-begin-end.svg\" width=\"60%\"/>\n",
    "<br> img src: https://en.cppreference.com/w/cpp/iterator/begin\n",
    "</div>\n"
   ]
  },
  {
   "cell_type": "markdown",
   "id": "6d481370-6f8a-4feb-be49-1572637be88a",
   "metadata": {
    "tags": []
   },
   "source": [
    "## Iterators (members of the containers)\n",
    "<div iterlist>\n",
    "<img src=\"img/iter_list.png\" width=\"60%\"/>\n",
    "<br> src: https://en.cppreference.com/w/cpp/container/vector\n",
    "</div>"
   ]
  },
  {
   "cell_type": "code",
   "execution_count": 1,
   "id": "56b56717-54a7-455e-9074-6e49c9d7db10",
   "metadata": {
    "tags": []
   },
   "outputs": [],
   "source": [
    "#include <iterator>\n",
    "\n",
    "#include <iostream>\n",
    "#include <vector>\n",
    "#include <array>"
   ]
  },
  {
   "cell_type": "code",
   "execution_count": 2,
   "id": "7cb83a51-f576-4d59-b178-1596686c4a7e",
   "metadata": {
    "tags": []
   },
   "outputs": [
    {
     "name": "stdout",
     "output_type": "stream",
     "text": [
      "0\n",
      "-5\n",
      "1\n"
     ]
    }
   ],
   "source": [
    "// Vector example // type vector<int>::iterator\n",
    "std::vector<int> vec_exmp{0, 1, 2};\n",
    "\n",
    "// begin -> pointing at the first element\n",
    "// auto vec_it = vec_exmp.begin(); // the same result as std::begin()\n",
    "auto vec_it = std::begin(vec_exmp); // the same result as .begin()\n",
    "\n",
    "// Print the first element\n",
    "std::cout << *vec_it << std::endl; \n",
    "\n",
    "// Update the element pointined by iterator\n",
    "*vec_it = -5; \n",
    "std::cout << *vec_it << std::endl; \n",
    "\n",
    "// Print the second element\n",
    "std::cout << *(vec_it + 1) << std::endl; "
   ]
  },
  {
   "cell_type": "code",
   "execution_count": 3,
   "id": "7765828b-967e-4509-865e-6dc5a150245e",
   "metadata": {
    "tags": []
   },
   "outputs": [
    {
     "name": "stdout",
     "output_type": "stream",
     "text": [
      "2\n"
     ]
    },
    {
     "data": {
      "text/plain": [
       "@0x7f5eeda4c4e0"
      ]
     },
     "execution_count": 3,
     "metadata": {},
     "output_type": "execute_result"
    }
   ],
   "source": [
    "// end -> poiting at the memory just after the last element\n",
    "// auto vec_it_end = vec_exmp.end(); // the same result as std::end()\n",
    "auto vec_it_end = std::end(vec_exmp); // the same result as .end()\n",
    "\n",
    "// std::cout << *(std::end(vec_exmp)) << std::endl; // risky, accessing memory ouf of vector\n",
    "std::cout << *(vec_it_end-1) << std::endl; // ok, we can subtract 1 from the end to reach last element"
   ]
  },
  {
   "cell_type": "code",
   "execution_count": 4,
   "id": "082a991c-7f28-498d-8836-98027b5623d1",
   "metadata": {
    "tags": []
   },
   "outputs": [
    {
     "name": "stdout",
     "output_type": "stream",
     "text": [
      "0\n",
      "0\n",
      "1\n"
     ]
    }
   ],
   "source": [
    "// cbegin and cend -> the \"c\" stands for const iterators (const access, without changing the elements)\n",
    "std::vector<int> vec_exmp{0, 1, 2};\n",
    "auto vec_c_it = std::cbegin(vec_exmp); // the same result as .begin()\n",
    "\n",
    "// Print the first element\n",
    "std::cout << *vec_c_it << std::endl; \n",
    "\n",
    "// Can't update the element pointined by const iterator\n",
    "// *vec_c_it = -5; // error: cannot assign to return value because function 'operator*' returns a const value\n",
    "std::cout << *vec_c_it << std::endl; \n",
    "\n",
    "// Print the second element\n",
    "std::cout << *(vec_c_it + 1) << std::endl; "
   ]
  },
  {
   "cell_type": "code",
   "execution_count": 5,
   "id": "7ade909a-8d33-4e3c-ba88-925084a4de22",
   "metadata": {
    "tags": []
   },
   "outputs": [
    {
     "name": "stdout",
     "output_type": "stream",
     "text": [
      "True: std::begin(vec_exmp) == vec_exmp.begin()\n",
      "True: std::end(vec_exmp) == vec_exmp.end()\n",
      "True: std::cbegin(vec_exmp) == vec_exmp.cbegin()\n",
      "True: std::cend(vec_exmp) == vec_exmp.cend()\n",
      "True: std::cbegin(vec_exmp) == vec_exmp.begin()\n"
     ]
    }
   ],
   "source": [
    "// Usage of std::begin() gives the same result as .begin(), but std::begin is more generic\n",
    "if (std::begin(vec_exmp) == vec_exmp.begin()) {\n",
    "    std::cout << \"True: std::begin(vec_exmp) == vec_exmp.begin()\" << std::endl;\n",
    "}\n",
    "if (std::end(vec_exmp) == vec_exmp.end()) {\n",
    "    std::cout << \"True: std::end(vec_exmp) == vec_exmp.end()\" << std::endl;\n",
    "}\n",
    "\n",
    "if (std::cbegin(vec_exmp) == vec_exmp.cbegin()) {\n",
    "    std::cout << \"True: std::cbegin(vec_exmp) == vec_exmp.cbegin()\" << std::endl;\n",
    "}\n",
    "if (std::cend(vec_exmp) == vec_exmp.cend()) {\n",
    "    std::cout << \"True: std::cend(vec_exmp) == vec_exmp.cend()\" << std::endl;\n",
    "}\n",
    "\n",
    "if (std::cbegin(vec_exmp) == vec_exmp.begin()){\n",
    "    std::cout << \"True: std::cbegin(vec_exmp) == vec_exmp.begin()\" << std::endl;\n",
    "}"
   ]
  },
  {
   "cell_type": "code",
   "execution_count": 6,
   "id": "78031e71-88d7-496c-9050-e0abbe8a3923",
   "metadata": {
    "tags": []
   },
   "outputs": [
    {
     "name": "stdout",
     "output_type": "stream",
     "text": [
      "3\n",
      "4\n",
      "6\n"
     ]
    },
    {
     "data": {
      "text/plain": [
       "@0x7f5eeda4c4e0"
      ]
     },
     "execution_count": 6,
     "metadata": {},
     "output_type": "execute_result"
    }
   ],
   "source": [
    "// Array example\n",
    "std::array<int, 4> arr_exmp{3, 4, 5, 6};\n",
    "\n",
    "// std::begin -> pointing at the first element\n",
    "auto arr_it = std::begin(arr_exmp);\n",
    "std::cout << *arr_it << std::endl; \n",
    "std::cout << *(arr_it + 1) << std::endl; \n",
    "\n",
    "// std::end -> poiting at the memory just after the last element\n",
    "std::cout << *(std::end(arr_exmp)-1) << std::endl; // ok, we can subtract 1 from the end to reach last element"
   ]
  },
  {
   "cell_type": "code",
   "execution_count": 7,
   "id": "6667a7bb-0a54-421b-972f-2bf541259087",
   "metadata": {
    "tags": []
   },
   "outputs": [
    {
     "name": "stdout",
     "output_type": "stream",
     "text": [
      "7\n",
      "8\n",
      "10\n"
     ]
    },
    {
     "data": {
      "text/plain": [
       "@0x7f5eeda4c4e0"
      ]
     },
     "execution_count": 7,
     "metadata": {},
     "output_type": "execute_result"
    }
   ],
   "source": [
    "// Basic c-style array example\n",
    "int basic_arr_exmp[] = {7, 8, 9, 10};\n",
    "\n",
    "// begin -> pointing at the first element\n",
    "auto b_arr_it = std::begin(basic_arr_exmp);\n",
    "std::cout << *b_arr_it << std::endl; \n",
    "std::cout << *(b_arr_it + 1) << std::endl; \n",
    "\n",
    "// end -> poiting at the memory just after the last element\n",
    "std::cout << *(std::end(basic_arr_exmp)-1) << std::endl; // ok, we can subtract 1 from the end to reach last element"
   ]
  },
  {
   "cell_type": "code",
   "execution_count": 8,
   "id": "61acdda6-fc17-4bcc-911c-b003b366c724",
   "metadata": {
    "tags": []
   },
   "outputs": [],
   "source": [
    "template<typename T>\n",
    "void print_vector(const std::vector<T>& vec) {\n",
    "    std::cout << std::endl << \"{ \";\n",
    "    for (int i = 0; i < vec.size(); ++i) {\n",
    "        std::cout << vec[i] << \", \";\n",
    "    }\n",
    "    std::cout << \"}\" << std::endl;\n",
    "}"
   ]
  },
  {
   "cell_type": "code",
   "execution_count": 9,
   "id": "f0402416-af03-4bb3-9db7-643b7b721ddd",
   "metadata": {
    "tags": []
   },
   "outputs": [],
   "source": [
    "template<typename CONT_T>\n",
    "void print_container(const CONT_T& cont) {\n",
    "    std::cout << std::endl << \"{ \";\n",
    "    for (int i = 0; i < cont.size(); ++i) {\n",
    "        std::cout << cont[i] << \", \";\n",
    "    }\n",
    "    std::cout << \"}\" << std::endl;\n",
    "}"
   ]
  },
  {
   "cell_type": "code",
   "execution_count": 10,
   "id": "f4cba73f-06bd-420a-a4ed-d9317c5fa5a4",
   "metadata": {
    "tags": []
   },
   "outputs": [
    {
     "name": "stdout",
     "output_type": "stream",
     "text": [
      "\n",
      "{ 0, 1, 2, }\n"
     ]
    }
   ],
   "source": [
    "print_container(vec_exmp);"
   ]
  },
  {
   "cell_type": "code",
   "execution_count": 11,
   "id": "536205e9-e6c1-4d3b-bd3b-c99c1713a382",
   "metadata": {
    "tags": []
   },
   "outputs": [
    {
     "name": "stdout",
     "output_type": "stream",
     "text": [
      "\n",
      "{ 3, 4, 5, 6, }\n"
     ]
    }
   ],
   "source": [
    "print_container(arr_exmp);"
   ]
  },
  {
   "cell_type": "code",
   "execution_count": 12,
   "id": "d8ff5530-4e07-4c0f-8ac8-7fd72502497a",
   "metadata": {
    "tags": []
   },
   "outputs": [],
   "source": [
    "// Is it possible to make print_containaer compatible with basic array?\n",
    "// print_container(basic_arr_exmp); // error, can't call .size() on basic c-style array"
   ]
  },
  {
   "cell_type": "code",
   "execution_count": 13,
   "id": "fb28ace8-f4bf-4e0f-a8f5-97dd320dcb66",
   "metadata": {
    "tags": []
   },
   "outputs": [],
   "source": [
    "// Not perfect solution\n",
    "template<typename CONT_T>\n",
    "void print_for_iter_container(const CONT_T& cont) {\n",
    "    std::cout << std::endl << \"{ \";\n",
    "    for (auto it = cont.cbegin(); it < cont.cend(); it++) {\n",
    "        std::cout << *it << \", \";\n",
    "    }\n",
    "    std::cout << \"}\" << std::endl;\n",
    "}"
   ]
  },
  {
   "cell_type": "code",
   "execution_count": 14,
   "id": "f5dbb9ca-8f46-4156-a321-7263384036f4",
   "metadata": {
    "tags": []
   },
   "outputs": [
    {
     "name": "stdout",
     "output_type": "stream",
     "text": [
      "\n",
      "{ 0, 1, 2, }\n",
      "\n",
      "{ 3, 4, 5, 6, }\n"
     ]
    }
   ],
   "source": [
    "print_for_iter_container(vec_exmp);\n",
    "print_for_iter_container(arr_exmp);"
   ]
  },
  {
   "cell_type": "code",
   "execution_count": 15,
   "id": "4055085b-4a4f-43c6-a7a2-03fc4c3fb78a",
   "metadata": {
    "tags": []
   },
   "outputs": [],
   "source": [
    "// Not perfect solution\n",
    "template<typename CONT_T>\n",
    "void print_while_iter_container(const CONT_T& cont) {\n",
    "    std::cout << std::endl << \"{ \";\n",
    "\n",
    "    auto it = cont.begin();\n",
    "    while (it != cont.end()) {\n",
    "        std::cout << *it++ << \", \";\n",
    "    }\n",
    "\n",
    "    std::cout << \"}\" << std::endl;\n",
    "}"
   ]
  },
  {
   "cell_type": "code",
   "execution_count": 16,
   "id": "305c6a4f-d866-4196-b02a-28c5c1861600",
   "metadata": {
    "tags": []
   },
   "outputs": [
    {
     "name": "stdout",
     "output_type": "stream",
     "text": [
      "\n",
      "{ 0, 1, 2, }\n",
      "\n",
      "{ 3, 4, 5, 6, }\n"
     ]
    }
   ],
   "source": [
    "print_while_iter_container(vec_exmp);\n",
    "print_while_iter_container(arr_exmp);"
   ]
  },
  {
   "cell_type": "code",
   "execution_count": 17,
   "id": "a7b19aa7-c394-484d-87c0-907c3346b2b7",
   "metadata": {
    "tags": []
   },
   "outputs": [],
   "source": [
    "// Still not working for basic c-style array, because of usage .begin() .end()\n",
    "// print_for_iter_container(basic_arr_exmp);\n",
    "// print_while_iter_container(basic_arr_exmp);"
   ]
  },
  {
   "cell_type": "code",
   "execution_count": 18,
   "id": "3cf218ad-90b3-495b-a9f9-1a304b28791e",
   "metadata": {
    "tags": []
   },
   "outputs": [],
   "source": [
    "// More generic\n",
    "template<typename CONT_T>\n",
    "void print_for_generic_iter_container(const CONT_T& cont) {\n",
    "    std::cout << std::endl << \"{ \";\n",
    "\n",
    "    for (auto it = std::cbegin(cont); it < std::cend(cont); it++) {\n",
    "        std::cout << *it << \", \";\n",
    "    }\n",
    "\n",
    "    std::cout << \"}\" << std::endl;\n",
    "}"
   ]
  },
  {
   "cell_type": "code",
   "execution_count": 19,
   "id": "b55d9917-f319-4f23-9721-0431be62a92d",
   "metadata": {
    "tags": []
   },
   "outputs": [
    {
     "name": "stdout",
     "output_type": "stream",
     "text": [
      "\n",
      "{ 0, 1, 2, }\n",
      "\n",
      "{ 3, 4, 5, 6, }\n",
      "\n",
      "{ 7, 8, 9, 10, }\n"
     ]
    }
   ],
   "source": [
    "print_for_generic_iter_container(vec_exmp);\n",
    "print_for_generic_iter_container(arr_exmp);\n",
    "\n",
    "// Now the solution is working also with c-style array\n",
    "print_for_generic_iter_container(basic_arr_exmp);"
   ]
  },
  {
   "cell_type": "code",
   "execution_count": 20,
   "id": "9d5189da-8486-4578-906a-9d628c82df63",
   "metadata": {
    "tags": []
   },
   "outputs": [],
   "source": [
    "// Even better\n",
    "template<typename CONT_T>\n",
    "void print_any_container(const CONT_T& cont) {\n",
    "    std::cout << std::endl << \"{ \";\n",
    "    \n",
    "    for (const auto& element : cont) {\n",
    "        std::cout << element << \", \";\n",
    "    }\n",
    "\n",
    "    std::cout << \"}\" << std::endl;\n",
    "}"
   ]
  },
  {
   "cell_type": "code",
   "execution_count": 21,
   "id": "c948ea6f-79c7-417c-87ef-74e1773cf850",
   "metadata": {
    "tags": []
   },
   "outputs": [
    {
     "name": "stdout",
     "output_type": "stream",
     "text": [
      "\n",
      "{ 0, 1, 2, }\n",
      "\n",
      "{ 3, 4, 5, 6, }\n",
      "\n",
      "{ 7, 8, 9, 10, }\n"
     ]
    }
   ],
   "source": [
    "print_any_container(vec_exmp);\n",
    "print_any_container(arr_exmp);\n",
    "\n",
    "// Now the solution is working also with c-style array\n",
    "print_any_container(basic_arr_exmp);"
   ]
  },
  {
   "cell_type": "markdown",
   "id": "f3094957-cf41-414a-af66-32127365a6a6",
   "metadata": {},
   "source": [
    "## Reverse iterator"
   ]
  },
  {
   "cell_type": "markdown",
   "id": "4fcb9637-4558-4607-95b9-22c7ea96d5d7",
   "metadata": {},
   "source": [
    "<div riter>\n",
    "<img src=\"img/range-rbegin-rend.svg\" width=\"60%\"/>\n",
    "<br> img src: https://en.cppreference.com/w/cpp/iterator/rbegin\n",
    "</div>"
   ]
  },
  {
   "cell_type": "code",
   "execution_count": 22,
   "id": "4ab9314d-a0f5-47fe-bd4d-29bcc5637458",
   "metadata": {
    "tags": []
   },
   "outputs": [],
   "source": [
    "// Reverse iterators rbegin, rend\n",
    "template<typename CONT_T>\n",
    "void print_any_container_reversed(const CONT_T& cont) {\n",
    "    std::cout << std::endl << \"{ \";\n",
    "    for (auto it = std::rbegin(cont); it < std::rend(cont); it++) {\n",
    "        std::cout << *it << \", \";\n",
    "    }\n",
    "    std::cout << \"}\" << std::endl;\n",
    "}"
   ]
  },
  {
   "cell_type": "code",
   "execution_count": 23,
   "id": "4ff3dc8d-9b85-4422-af3a-1f56b1fad52c",
   "metadata": {
    "tags": []
   },
   "outputs": [
    {
     "name": "stdout",
     "output_type": "stream",
     "text": [
      "\n",
      "{ 2, 1, 0, }\n",
      "\n",
      "{ 6, 5, 4, 3, }\n",
      "\n",
      "{ 10, 9, 8, 7, }\n"
     ]
    }
   ],
   "source": [
    "print_any_container_reversed(vec_exmp);\n",
    "print_any_container_reversed(arr_exmp);\n",
    "\n",
    "// Now the solution is working also with c-style array\n",
    "print_any_container_reversed(basic_arr_exmp);"
   ]
  }
 ],
 "metadata": {
  "kernelspec": {
   "display_name": "C++17",
   "language": "C++17",
   "name": "xcpp17"
  },
  "language_info": {
   "codemirror_mode": "text/x-c++src",
   "file_extension": ".cpp",
   "mimetype": "text/x-c++src",
   "name": "c++",
   "version": "17"
  }
 },
 "nbformat": 4,
 "nbformat_minor": 5
}
