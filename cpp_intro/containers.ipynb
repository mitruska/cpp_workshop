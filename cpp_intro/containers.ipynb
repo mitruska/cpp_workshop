{
 "cells": [
  {
   "cell_type": "markdown",
   "id": "8245f3b3-118c-48dc-81e7-e950046a4dec",
   "metadata": {
    "tags": []
   },
   "source": [
    "## Introduction to C++"
   ]
  },
  {
   "cell_type": "markdown",
   "id": "e089bc4e-d0df-4da1-a80a-927475a20060",
   "metadata": {
    "tags": []
   },
   "source": [
    "## [Standard Library](https://en.cppreference.com/w/cpp/header)\n",
    "- Standard library provides a set of useful tools for resolving common tasks and problems\n",
    "- Knowledge of standard library allows programmers make their code:\n",
    "    * easier to write\n",
    "    * easier to read\n",
    "    * easier to maintain\n",
    "    * optimized\n",
    "\n",
    "    "
   ]
  },
  {
   "cell_type": "markdown",
   "id": "93951bc4-8ace-4855-bd2b-b510800ff710",
   "metadata": {
    "tags": []
   },
   "source": [
    "# [Containers](https://en.cppreference.com/w/cpp/container)\n",
    "Container in C++ is a collection of elements, implementation of a data structure."
   ]
  },
  {
   "cell_type": "markdown",
   "id": "a07d2cec-afa6-4dbc-b404-ecaf459d39bd",
   "metadata": {
    "tags": []
   },
   "source": [
    "<div cont_vis_all>\n",
    "<img src=\"img/containers/containers_vis_2.png\" width=\"30%\"/>\n",
    "</div>"
   ]
  },
  {
   "cell_type": "markdown",
   "id": "e1e17fa0-a646-435f-a1e9-550c309c00d9",
   "metadata": {
    "tags": []
   },
   "source": [
    "#### Sequence containers\n",
    "Sequence containers implement data structures which can be accessed sequentially.\n",
    "\n",
    "- **array** - static contiguous array\n",
    "- **vector** - dynamic contiguous array\n",
    "- **list** - doubly-linked list\n",
    "- ...\n",
    "\n",
    "\n",
    "\n",
    "#### Associative containers\n",
    "Associative containers implement sorted data structures that can be quickly searched.\n",
    "\n",
    "- **map** - collection of key-value pairs, sorted by keys, keys are unique\n",
    "- **set** - collection of unique keys, sorted by keys\n",
    "- ...\n",
    "\n",
    "#### [See more](https://en.cppreference.com/w/cpp/container) (Unordered associative, Adaptors, Views)"
   ]
  },
  {
   "cell_type": "markdown",
   "id": "a3fb13b5-c686-4320-9519-b3073250ead8",
   "metadata": {
    "jp-MarkdownHeadingCollapsed": true,
    "tags": []
   },
   "source": [
    "### [std::array](https://en.cppreference.com/w/cpp/container/array)\n",
    "- std::array is a sequence container that encapsulates fixed size arrays\n",
    "- the elements are stored contiguously\n",
    "<div cont_vis_array>\n",
    "<img src=\"img/containers/array_draw.png\" width=\"15%\"/>\n",
    "</div>\n",
    "\n"
   ]
  },
  {
   "cell_type": "markdown",
   "id": "a8f31c6a-89e5-4c9a-ae23-ba7a24d12900",
   "metadata": {
    "tags": []
   },
   "source": [
    "<div array_element_access>\n",
    "<img src=\"img/array_elem_access.png\" width=\"70%\"/>\n",
    "</div>"
   ]
  },
  {
   "cell_type": "code",
   "execution_count": 1,
   "id": "c508d63d-4348-4a23-b264-6e760a30c66e",
   "metadata": {
    "tags": []
   },
   "outputs": [],
   "source": [
    "#include <array>  // For std::array"
   ]
  },
  {
   "cell_type": "code",
   "execution_count": 2,
   "id": "20b3e967-d549-4582-9d96-b6dab925d97f",
   "metadata": {
    "tags": []
   },
   "outputs": [],
   "source": [
    "#include <iostream> // For std::cout"
   ]
  },
  {
   "cell_type": "code",
   "execution_count": 3,
   "id": "60cbc1e5-de8a-4d54-a233-e4af2985c446",
   "metadata": {
    "tags": []
   },
   "outputs": [],
   "source": [
    "// Create std::array of integers\n",
    "std::array<int, 3> array_exmp_1 {0, 1, 2};\n",
    "std::array<int, 5> array_exmp_2 = {0, 1, 2, 3, 4};\n",
    "auto array_exmp_3 = std::array<int, 5>{0, 1, 2, 3, 4};\n",
    "\n",
    "// Create std::array of floats\n",
    "std::array<float, 2> array_exmp_f = {0.1, 2.5};\n",
    "\n",
    "// [Just a reminder] example of basic \"c style array\"\n",
    "int basic_array_i[] = {0, 1, 2};\n",
    "float basic_array_f[] = {2.1, 3.4};"
   ]
  },
  {
   "cell_type": "code",
   "execution_count": 4,
   "id": "9d08e215-e720-4ba3-9fd7-c942c13b4829",
   "metadata": {
    "tags": []
   },
   "outputs": [
    {
     "name": "stdout",
     "output_type": "stream",
     "text": [
      "0\n",
      "2\n",
      "0\n",
      "2\n"
     ]
    }
   ],
   "source": [
    "// Element access \n",
    "std::cout << array_exmp_2[0] << std::endl;\n",
    "std::cout << array_exmp_2[2] << std::endl;\n",
    "\n",
    "std::cout << array_exmp_2.at(0) << std::endl;\n",
    "std::cout << array_exmp_2.at(2) << std::endl;"
   ]
  },
  {
   "cell_type": "code",
   "execution_count": 5,
   "id": "809db26b-8742-4728-a4ae-f2789b604d47",
   "metadata": {
    "tags": []
   },
   "outputs": [
    {
     "name": "stdout",
     "output_type": "stream",
     "text": [
      "0\n",
      "2\n",
      "0\n",
      "2\n"
     ]
    }
   ],
   "source": [
    "// Element access by raw pointer data()\n",
    "std::cout << array_exmp_2.data()[0] << std::endl;\n",
    "std::cout << array_exmp_2.data()[2] << std::endl;\n",
    "std::cout << *array_exmp_2.data() << std::endl;\n",
    "std::cout << *(array_exmp_2.data()+2) << std::endl;"
   ]
  },
  {
   "cell_type": "code",
   "execution_count": 6,
   "id": "4f7f0bf5-d01b-4c3e-864f-d948ce705cab",
   "metadata": {
    "tags": []
   },
   "outputs": [
    {
     "name": "stdout",
     "output_type": "stream",
     "text": [
      "0\n",
      "4\n"
     ]
    },
    {
     "data": {
      "text/plain": [
       "@0x7fb1460b94e0"
      ]
     },
     "execution_count": 6,
     "metadata": {},
     "output_type": "execute_result"
    }
   ],
   "source": [
    "// Element access by front/back\n",
    "std::cout << array_exmp_2.front() << std::endl; // The first element\n",
    "std::cout << array_exmp_2.back() << std::endl; // The last element"
   ]
  },
  {
   "cell_type": "code",
   "execution_count": 7,
   "id": "33e4d79b-4803-484e-ae9f-8652502121a8",
   "metadata": {
    "tags": []
   },
   "outputs": [
    {
     "data": {
      "text/plain": [
       "@0x7fb146266038"
      ]
     },
     "execution_count": 7,
     "metadata": {},
     "output_type": "execute_result"
    }
   ],
   "source": [
    "array_exmp_2"
   ]
  },
  {
   "cell_type": "code",
   "execution_count": 8,
   "id": "a2a992c2-d532-4551-98f2-e6269e854510",
   "metadata": {
    "tags": []
   },
   "outputs": [],
   "source": [
    "void print_int_array_fixed(const std::array<int, 3>& arr) {\n",
    "    std::cout << std::endl << \"{ \";\n",
    "    for (int i = 0; i < arr.size(); ++i) {\n",
    "        std::cout << arr[i] << \", \";\n",
    "    }\n",
    "    std::cout << \"}\" << std::endl;\n",
    "}"
   ]
  },
  {
   "cell_type": "code",
   "execution_count": 9,
   "id": "39cfa2b0-7130-4f08-9ea3-47df7f8a5602",
   "metadata": {
    "tags": []
   },
   "outputs": [
    {
     "name": "stdout",
     "output_type": "stream",
     "text": [
      "\n",
      "{ 0, 1, 2, }\n"
     ]
    }
   ],
   "source": [
    "print_int_array_fixed(array_exmp_1);"
   ]
  },
  {
   "cell_type": "code",
   "execution_count": 10,
   "id": "99e9d2ca-1666-4988-bd05-658000f123b4",
   "metadata": {
    "tags": []
   },
   "outputs": [],
   "source": [
    "// print_int_array_fixed(array_exmp_2); // error:  no known conversion from 'array<[...], 5>' to 'const array<[...], 3>'"
   ]
  },
  {
   "cell_type": "code",
   "execution_count": 11,
   "id": "85f7cce0-b875-4539-9ab4-1b8814c5106d",
   "metadata": {
    "tags": []
   },
   "outputs": [],
   "source": [
    "template<std::size_t ARR_SIZE>\n",
    "void print_int_array(const std::array<int, ARR_SIZE>& arr) {\n",
    "    std::cout << std::endl << \"{ \";\n",
    "    for (int i = 0; i < arr.size(); ++i) {\n",
    "        std::cout << arr[i] << \", \";\n",
    "    }\n",
    "    std::cout << \"}\" << std::endl;\n",
    "}"
   ]
  },
  {
   "cell_type": "code",
   "execution_count": 12,
   "id": "a7ea504c-3688-4a6a-9365-28f90a0560df",
   "metadata": {
    "tags": []
   },
   "outputs": [
    {
     "name": "stdout",
     "output_type": "stream",
     "text": [
      "\n",
      "{ 0, 1, 2, }\n"
     ]
    }
   ],
   "source": [
    "print_int_array(array_exmp_1);"
   ]
  },
  {
   "cell_type": "code",
   "execution_count": 13,
   "id": "aeb0a9a4-a5ab-4215-8a3a-bfce602d69dd",
   "metadata": {
    "tags": []
   },
   "outputs": [
    {
     "name": "stdout",
     "output_type": "stream",
     "text": [
      "\n",
      "{ 0, 1, 2, 3, 4, }\n"
     ]
    }
   ],
   "source": [
    "print_int_array(array_exmp_2);"
   ]
  },
  {
   "cell_type": "code",
   "execution_count": 14,
   "id": "c0c229dd-09f9-417a-a271-29c1a0e32b00",
   "metadata": {
    "tags": []
   },
   "outputs": [],
   "source": [
    "template<typename T, std::size_t ARR_SIZE>\n",
    "void print_array(const std::array<T, ARR_SIZE>& arr) {\n",
    "    std::cout << std::endl << \"{ \";\n",
    "    for (int i = 0; i < arr.size(); ++i) {\n",
    "        std::cout << arr[i] << \", \";\n",
    "    }\n",
    "    std::cout << \"}\" << std::endl;\n",
    "}"
   ]
  },
  {
   "cell_type": "code",
   "execution_count": 15,
   "id": "340657a9-2c46-45e7-b27c-cadefd287a66",
   "metadata": {
    "tags": []
   },
   "outputs": [
    {
     "name": "stdout",
     "output_type": "stream",
     "text": [
      "\n",
      "{ 0, 1, 2, }\n"
     ]
    }
   ],
   "source": [
    "print_array(array_exmp_1);"
   ]
  },
  {
   "cell_type": "code",
   "execution_count": 16,
   "id": "16047395-d2a7-49f9-9815-600663d049b2",
   "metadata": {
    "tags": []
   },
   "outputs": [
    {
     "name": "stdout",
     "output_type": "stream",
     "text": [
      "\n",
      "{ 0, 1, 2, 3, 4, }\n"
     ]
    }
   ],
   "source": [
    "print_array(array_exmp_2);"
   ]
  },
  {
   "cell_type": "code",
   "execution_count": 17,
   "id": "89824eab-b502-4a58-9cce-264f4f5d1752",
   "metadata": {
    "tags": []
   },
   "outputs": [
    {
     "name": "stdout",
     "output_type": "stream",
     "text": [
      "\n",
      "{ 0, 1, 2, 3, 4, }\n"
     ]
    }
   ],
   "source": [
    "print_array<int, 5>(array_exmp_2);"
   ]
  },
  {
   "cell_type": "code",
   "execution_count": 18,
   "id": "be3e7d54-cda6-4a09-8033-c7cf9e205e86",
   "metadata": {
    "tags": []
   },
   "outputs": [
    {
     "name": "stdout",
     "output_type": "stream",
     "text": [
      "\n",
      "{ 0.1, 2.5, }\n"
     ]
    }
   ],
   "source": [
    "print_array(array_exmp_f);"
   ]
  },
  {
   "cell_type": "markdown",
   "id": "19c0032d-b8fe-4686-9c81-36be9d5898f7",
   "metadata": {
    "jp-MarkdownHeadingCollapsed": true,
    "tags": []
   },
   "source": [
    "### [std::vector](https://en.cppreference.com/w/cpp/container/vector)\n",
    "\n",
    "- std::vector is a sequence container that encapsulates dynamic size arrays\n",
    "- the elements are stored contiguously\n",
    "\n",
    "<div cont_vis_vec>\n",
    "<img src=\"img/containers/vector_draw.png\" width=\"15%\"/>\n",
    "</div>\n"
   ]
  },
  {
   "cell_type": "markdown",
   "id": "2e9690e2-9f0a-4b5e-9181-865353b3107c",
   "metadata": {},
   "source": [
    "<div>\n",
    "<img src=\"img/vector_elem_access.png\" width=\"40%\"/>\n",
    "</div>\n",
    "<br> src: https://en.cppreference.com/w/cpp/container/vector\n"
   ]
  },
  {
   "cell_type": "code",
   "execution_count": 19,
   "id": "d1cdc1a4-00b4-425b-a516-0e51da86dd7a",
   "metadata": {
    "tags": []
   },
   "outputs": [],
   "source": [
    "#include <vector>  // For std::vector"
   ]
  },
  {
   "cell_type": "code",
   "execution_count": 20,
   "id": "1d63ccbf-2ede-4e39-ac40-ce5db16529c7",
   "metadata": {
    "tags": []
   },
   "outputs": [],
   "source": [
    "#include <iostream>  // For std::cout"
   ]
  },
  {
   "cell_type": "code",
   "execution_count": 21,
   "id": "d590e87e-900a-4501-82cb-9197357c1e07",
   "metadata": {
    "tags": []
   },
   "outputs": [],
   "source": [
    "// Create vector of integers\n",
    "std::vector<int> numbers_exmp_1{0, 1, 2, 3, 4};\n",
    "// std::vector<int> numbers_exmp_2 = std::vector<int>{0, 1, 2, 3, 4};\n",
    "auto numbers_exmp_2 = std::vector<int>{0, 1, 2, 3, 4};\n",
    "\n",
    "// Create vector of floats\n",
    "std::vector<float> numbers_exmp_f{0.0, 0.1, 0.2, 0.3, 0.4};\n",
    "\n",
    "// Create (numbers_of_elements, element_value=0)\n",
    "std::vector<int> numbers_exmp_zeros(4); // Filled with zeros by default\n",
    "std::vector<int> numbers_exmp_ones(4, 1); // Filled with ones"
   ]
  },
  {
   "cell_type": "code",
   "execution_count": 22,
   "id": "db823f39-e168-4f58-a0a9-cd66f9a6fd00",
   "metadata": {
    "tags": []
   },
   "outputs": [
    {
     "data": {
      "text/plain": [
       "{ 0, 1, 2, 3, 4 }"
      ]
     },
     "execution_count": 22,
     "metadata": {},
     "output_type": "execute_result"
    }
   ],
   "source": [
    "numbers_exmp_1"
   ]
  },
  {
   "cell_type": "code",
   "execution_count": 23,
   "id": "0e691bdd-0b2a-40bd-959e-dc5a8b8f8672",
   "metadata": {
    "tags": []
   },
   "outputs": [
    {
     "data": {
      "text/plain": [
       "{ 0, 1, 2, 3, 4 }"
      ]
     },
     "execution_count": 23,
     "metadata": {},
     "output_type": "execute_result"
    }
   ],
   "source": [
    "numbers_exmp_2"
   ]
  },
  {
   "cell_type": "code",
   "execution_count": 24,
   "id": "df1345f6-55fb-44f0-8ce8-2aaacbe66333",
   "metadata": {
    "tags": []
   },
   "outputs": [
    {
     "data": {
      "text/plain": [
       "{ 0.00000f, 0.100000f, 0.200000f, 0.300000f, 0.400000f }"
      ]
     },
     "execution_count": 24,
     "metadata": {},
     "output_type": "execute_result"
    }
   ],
   "source": [
    "numbers_exmp_f"
   ]
  },
  {
   "cell_type": "code",
   "execution_count": 25,
   "id": "8e8f37c2-f31e-4459-abe8-c8f8cc90eb7c",
   "metadata": {
    "tags": []
   },
   "outputs": [
    {
     "data": {
      "text/plain": [
       "{ 1, 1, 1, 1 }"
      ]
     },
     "execution_count": 25,
     "metadata": {},
     "output_type": "execute_result"
    }
   ],
   "source": [
    "numbers_exmp_ones"
   ]
  },
  {
   "cell_type": "code",
   "execution_count": 26,
   "id": "623433fe-b75f-40a0-a3b9-196a68db2523",
   "metadata": {
    "tags": []
   },
   "outputs": [
    {
     "data": {
      "text/plain": [
       "{ 0, 0, 0, 0 }"
      ]
     },
     "execution_count": 26,
     "metadata": {},
     "output_type": "execute_result"
    }
   ],
   "source": [
    "numbers_exmp_zeros"
   ]
  },
  {
   "cell_type": "code",
   "execution_count": 27,
   "id": "96a884fe-4cf6-4d4f-8e5f-4cd228f12958",
   "metadata": {},
   "outputs": [
    {
     "name": "stdout",
     "output_type": "stream",
     "text": [
      "0\n",
      "2\n",
      "0\n",
      "2\n"
     ]
    }
   ],
   "source": [
    "// Element access\n",
    "std::cout << numbers_exmp_2[0] << std::endl;\n",
    "std::cout << numbers_exmp_2[2] << std::endl;\n",
    "\n",
    "std::cout << numbers_exmp_2.at(0) << std::endl;\n",
    "std::cout << numbers_exmp_2.at(2) << std::endl;"
   ]
  },
  {
   "cell_type": "code",
   "execution_count": 28,
   "id": "5bc48a30-d3de-40a2-8f0a-daa13e0a222f",
   "metadata": {},
   "outputs": [
    {
     "name": "stdout",
     "output_type": "stream",
     "text": [
      "0\n",
      "2\n",
      "0\n",
      "2\n"
     ]
    }
   ],
   "source": [
    "// Element access by raw pointer data()\n",
    "std::cout << numbers_exmp_2.data()[0] << std::endl;\n",
    "std::cout << numbers_exmp_2.data()[2] << std::endl;\n",
    "std::cout << *numbers_exmp_2.data() << std::endl;\n",
    "std::cout << *(numbers_exmp_2.data()+2) << std::endl;"
   ]
  },
  {
   "cell_type": "code",
   "execution_count": 29,
   "id": "015d8139-225d-48c0-9ee0-84318e99b830",
   "metadata": {},
   "outputs": [
    {
     "name": "stdout",
     "output_type": "stream",
     "text": [
      "0\n",
      "4\n"
     ]
    },
    {
     "data": {
      "text/plain": [
       "@0x7fb1460b94e0"
      ]
     },
     "execution_count": 29,
     "metadata": {},
     "output_type": "execute_result"
    }
   ],
   "source": [
    "// Element access by front/back\n",
    "std::cout << numbers_exmp_2.front() << std::endl; // The first element\n",
    "std::cout << numbers_exmp_2.back() << std::endl; // The last element"
   ]
  },
  {
   "cell_type": "code",
   "execution_count": 30,
   "id": "ef1a49b0-6581-4a59-b80a-6e232c2240f3",
   "metadata": {},
   "outputs": [
    {
     "name": "stdout",
     "output_type": "stream",
     "text": [
      "0\n",
      "1\n",
      "2\n",
      "3\n",
      "4\n"
     ]
    }
   ],
   "source": [
    "for (int i = 0; i < numbers_exmp_2.size(); ++i) {\n",
    "    std::cout << numbers_exmp_2[i] << std::endl;\n",
    "}"
   ]
  },
  {
   "cell_type": "code",
   "execution_count": 31,
   "id": "e8b169a6-146d-4a68-b441-d91858dcb201",
   "metadata": {},
   "outputs": [],
   "source": [
    "template<typename T>\n",
    "void print_vector(const std::vector<T>& vec) {\n",
    "    std::cout << std::endl << \"{ \";\n",
    "    for (int i = 0; i < vec.size(); ++i) {\n",
    "        std::cout << vec[i] << \", \";\n",
    "    }\n",
    "    std::cout << \"}\" << std::endl;\n",
    "}"
   ]
  },
  {
   "cell_type": "code",
   "execution_count": 32,
   "id": "0e543cb8-a5c6-438f-88dd-cc460656a776",
   "metadata": {
    "tags": []
   },
   "outputs": [
    {
     "name": "stdout",
     "output_type": "stream",
     "text": [
      "\n",
      "{ 0, 1, 2, 3, 4, }\n"
     ]
    }
   ],
   "source": [
    "print_vector(numbers_exmp_2);"
   ]
  },
  {
   "cell_type": "code",
   "execution_count": 33,
   "id": "9e62ab79-98fd-4aa6-b092-090eec4bf089",
   "metadata": {
    "tags": []
   },
   "outputs": [
    {
     "data": {
      "text/plain": [
       "{ 0, 1, 2, 3, 4 }"
      ]
     },
     "execution_count": 33,
     "metadata": {},
     "output_type": "execute_result"
    }
   ],
   "source": [
    "numbers_exmp_2"
   ]
  },
  {
   "cell_type": "code",
   "execution_count": 34,
   "id": "cebd1c18-aaf6-4b43-9dc7-648bf5fd149d",
   "metadata": {
    "tags": []
   },
   "outputs": [
    {
     "name": "stdout",
     "output_type": "stream",
     "text": [
      "0\n"
     ]
    }
   ],
   "source": [
    "// Empty vector\n",
    "std::vector<int> numbers_exmp_push;\n",
    "std::cout << numbers_exmp_push.size() << std::endl;"
   ]
  },
  {
   "cell_type": "code",
   "execution_count": 35,
   "id": "ee500d38-b8f1-4b8a-8dc2-c99448901cc9",
   "metadata": {
    "tags": []
   },
   "outputs": [
    {
     "name": "stdout",
     "output_type": "stream",
     "text": [
      "0\n"
     ]
    }
   ],
   "source": [
    "// Empty vector\n",
    "std::vector<int> numbers_exmp_push;\n",
    "numbers_exmp_push.reserve(7); // Reserve memory, doesn't change the size of the vector \n",
    "std::cout << numbers_exmp_push.size() << std::endl;"
   ]
  },
  {
   "cell_type": "code",
   "execution_count": 36,
   "id": "38d5d0b4-5330-4419-9b1f-134f693b0afd",
   "metadata": {
    "tags": []
   },
   "outputs": [
    {
     "data": {
      "text/plain": [
       "{ 0, 0, 0 }"
      ]
     },
     "execution_count": 36,
     "metadata": {},
     "output_type": "execute_result"
    }
   ],
   "source": [
    "// Resize vector \n",
    "numbers_exmp_push.resize(3); // Fill with default\n",
    "numbers_exmp_push"
   ]
  },
  {
   "cell_type": "code",
   "execution_count": 37,
   "id": "ac9e5b02-504d-4b8f-a529-89f57a0dc1c8",
   "metadata": {
    "tags": []
   },
   "outputs": [
    {
     "name": "stdout",
     "output_type": "stream",
     "text": [
      "3\n"
     ]
    }
   ],
   "source": [
    "std::cout << numbers_exmp_push.size() << std::endl;"
   ]
  },
  {
   "cell_type": "code",
   "execution_count": 38,
   "id": "0e602902-0a17-4473-a943-de1e4e202c6f",
   "metadata": {
    "tags": []
   },
   "outputs": [
    {
     "data": {
      "text/plain": [
       "{ 0, 0, 0, 2, 2 }"
      ]
     },
     "execution_count": 38,
     "metadata": {},
     "output_type": "execute_result"
    }
   ],
   "source": [
    "// Resize vector with provided value\n",
    "numbers_exmp_push.resize(5, 2); // Fill remaining with value 2\n",
    "numbers_exmp_push"
   ]
  },
  {
   "cell_type": "code",
   "execution_count": 39,
   "id": "cb64ea53-1dda-424a-b44d-72a62ee4a6fe",
   "metadata": {
    "tags": []
   },
   "outputs": [
    {
     "name": "stdout",
     "output_type": "stream",
     "text": [
      "5\n"
     ]
    }
   ],
   "source": [
    "std::cout << numbers_exmp_push.size() << std::endl;"
   ]
  },
  {
   "cell_type": "code",
   "execution_count": 40,
   "id": "8d8f560f-f110-45ff-8a66-1d2414f68b8d",
   "metadata": {
    "tags": []
   },
   "outputs": [
    {
     "data": {
      "text/plain": [
       "{ 0, 0, 0, 2 }"
      ]
     },
     "execution_count": 40,
     "metadata": {},
     "output_type": "execute_result"
    }
   ],
   "source": [
    "// Resize vector to smaller size\n",
    "numbers_exmp_push.resize(4, 6); // If the desired size is smaller than actual vector size, the value to fill the vector is ignored\n",
    "numbers_exmp_push"
   ]
  },
  {
   "cell_type": "code",
   "execution_count": 41,
   "id": "f054d151-4c87-40e3-9444-60fbb3937310",
   "metadata": {
    "tags": []
   },
   "outputs": [],
   "source": [
    "// Add element to the end of the vector\n",
    "numbers_exmp_push.push_back(4);\n",
    "numbers_exmp_push.push_back(5);"
   ]
  },
  {
   "cell_type": "code",
   "execution_count": 42,
   "id": "0dbb0eda-24cc-4938-ba7c-536ec6a69f53",
   "metadata": {
    "tags": []
   },
   "outputs": [
    {
     "data": {
      "text/plain": [
       "{ 0, 0, 0, 2, 4, 5 }"
      ]
     },
     "execution_count": 42,
     "metadata": {},
     "output_type": "execute_result"
    }
   ],
   "source": [
    "numbers_exmp_push"
   ]
  },
  {
   "cell_type": "code",
   "execution_count": 43,
   "id": "222d88e5-2d1c-4826-b946-868a5ea61f24",
   "metadata": {
    "tags": []
   },
   "outputs": [],
   "source": [
    "std::vector<int> numbers_exmp_pop = numbers_exmp_push;  // The values are copied\n",
    "// To remove the last element \"pop_back\" can be used\n",
    "numbers_exmp_pop.pop_back();"
   ]
  },
  {
   "cell_type": "code",
   "execution_count": 44,
   "id": "cebd2708-b446-4fa3-865a-316fab0632b0",
   "metadata": {
    "tags": []
   },
   "outputs": [
    {
     "data": {
      "text/plain": [
       "{ 0, 0, 0, 2, 4 }"
      ]
     },
     "execution_count": 44,
     "metadata": {},
     "output_type": "execute_result"
    }
   ],
   "source": [
    "numbers_exmp_pop"
   ]
  },
  {
   "cell_type": "code",
   "execution_count": 45,
   "id": "06cdac6a-e907-431a-8fa3-2fb19db6a44f",
   "metadata": {
    "tags": []
   },
   "outputs": [],
   "source": [
    "// For std::vector there is no \"push_front\" to add or \"pop_front\" to remove element at the begining\n",
    "// numbers_exmp_push.push_front(3); // error, no such member"
   ]
  },
  {
   "cell_type": "code",
   "execution_count": 46,
   "id": "49f85b49-5276-435f-adbd-7b873eefada3",
   "metadata": {
    "tags": []
   },
   "outputs": [],
   "source": [
    "// To add element at any position \"insert\" can be used\n",
    "std::vector<int> numbers_exmp_in = numbers_exmp_push;  // The values are copied\n",
    "numbers_exmp_in.insert(numbers_exmp_in.begin(), 9);"
   ]
  },
  {
   "cell_type": "code",
   "execution_count": 47,
   "id": "a8ef22e3-3031-4bc5-8e53-d026e71d9a11",
   "metadata": {
    "tags": []
   },
   "outputs": [
    {
     "name": "stdout",
     "output_type": "stream",
     "text": [
      "\n",
      "{ 9, 10, 11, 12, 0, 0, 0, 2, 4, 5, }\n"
     ]
    }
   ],
   "source": [
    "numbers_exmp_in.insert(numbers_exmp_in.begin()+1, 11);\n",
    "numbers_exmp_in.insert(numbers_exmp_in.begin()+1, 10);\n",
    "numbers_exmp_in.insert(numbers_exmp_in.begin()+3, 12);\n",
    "\n",
    "print_vector(numbers_exmp_in);"
   ]
  },
  {
   "cell_type": "code",
   "execution_count": 48,
   "id": "d490b831-9a59-482e-9e02-6ae68b02a352",
   "metadata": {
    "tags": []
   },
   "outputs": [
    {
     "name": "stdout",
     "output_type": "stream",
     "text": [
      "\n",
      "{ 10, 11, 12, 0, 0, 0, 2, 4, 5, }\n"
     ]
    }
   ],
   "source": [
    "// To remove element at any position \"erase\" can be used\n",
    "numbers_exmp_in.erase(numbers_exmp_in.begin());\n",
    "print_vector(numbers_exmp_in);"
   ]
  },
  {
   "cell_type": "code",
   "execution_count": 49,
   "id": "8574076e-2326-4eca-ac2d-11558afcdae3",
   "metadata": {
    "tags": []
   },
   "outputs": [
    {
     "name": "stdout",
     "output_type": "stream",
     "text": [
      "\n",
      "{ 10, 12, 0, 0, 2, 4, 5, }\n"
     ]
    }
   ],
   "source": [
    "numbers_exmp_in.erase(numbers_exmp_in.begin()+1);\n",
    "numbers_exmp_in.erase(numbers_exmp_in.begin()+3);\n",
    "print_vector(numbers_exmp_in);"
   ]
  },
  {
   "cell_type": "markdown",
   "id": "a0f1f61a-7ad8-4c64-b3c4-ccfbb1621da1",
   "metadata": {
    "jp-MarkdownHeadingCollapsed": true,
    "tags": []
   },
   "source": [
    "### [std::list](https://en.cppreference.com/w/cpp/container/list)\n",
    "- std::list is a sequence container implemented as double-linked list\n",
    "- constant insertion and removal of elements\n",
    "- fast random access is not supported\n",
    "<div cont_vis_list>\n",
    "<img src=\"img/containers/list_draw.png\" width=\"22%\"/>\n",
    "</div>"
   ]
  },
  {
   "cell_type": "markdown",
   "id": "514ab07a-9794-4477-8f39-64bb0adcf3a2",
   "metadata": {
    "tags": []
   },
   "source": [
    "<div std::list>\n",
    "<img src=\"img/list_elem_access.png\" width=\"40%\"/>\n",
    "</div>\n",
    "<br> src: https://en.cppreference.com/w/cpp/container/list"
   ]
  },
  {
   "cell_type": "code",
   "execution_count": 50,
   "id": "6157b104-db8c-48cb-80fc-be6ffc448675",
   "metadata": {
    "tags": []
   },
   "outputs": [],
   "source": [
    "#include <list>"
   ]
  },
  {
   "cell_type": "code",
   "execution_count": 51,
   "id": "1084fe22-95fc-421f-a2db-178e41b6432c",
   "metadata": {
    "tags": []
   },
   "outputs": [],
   "source": [
    "// Create list of integers\n",
    "std::list<int> numbers_list_i{0, 1, 2, 3, 4};\n",
    "\n",
    "// Create list of floats\n",
    "std::list<float> numbers_list_f{0.0, 0.1, 0.2, 0.3, 0.4};"
   ]
  },
  {
   "cell_type": "code",
   "execution_count": 52,
   "id": "7d0939ac-f735-4ca6-bae5-ef999efe812d",
   "metadata": {
    "tags": []
   },
   "outputs": [
    {
     "data": {
      "text/plain": [
       "{ 0, 1, 2, 3, 4 }"
      ]
     },
     "execution_count": 52,
     "metadata": {},
     "output_type": "execute_result"
    }
   ],
   "source": [
    "numbers_list_i"
   ]
  },
  {
   "cell_type": "code",
   "execution_count": 53,
   "id": "39421dd0-51b5-4e33-90d9-2170073130d3",
   "metadata": {
    "tags": []
   },
   "outputs": [
    {
     "data": {
      "text/plain": [
       "{ 0.00000f, 0.100000f, 0.200000f, 0.300000f, 0.400000f }"
      ]
     },
     "execution_count": 53,
     "metadata": {},
     "output_type": "execute_result"
    }
   ],
   "source": [
    "numbers_list_f"
   ]
  },
  {
   "cell_type": "code",
   "execution_count": 54,
   "id": "209343f5-95c1-4520-ab3a-cae125ec8035",
   "metadata": {
    "tags": []
   },
   "outputs": [],
   "source": [
    "// Add element to the end of the list\n",
    "numbers_list_i.push_back(5);"
   ]
  },
  {
   "cell_type": "code",
   "execution_count": 55,
   "id": "353b3dfc-ffe0-4ad1-921d-9682a869af75",
   "metadata": {
    "tags": []
   },
   "outputs": [
    {
     "data": {
      "text/plain": [
       "{ 0, 1, 2, 3, 4, 5 }"
      ]
     },
     "execution_count": 55,
     "metadata": {},
     "output_type": "execute_result"
    }
   ],
   "source": [
    "numbers_list_i"
   ]
  },
  {
   "cell_type": "code",
   "execution_count": 56,
   "id": "32beff11-c0f1-4994-9341-bf9cd3e81f6f",
   "metadata": {
    "tags": []
   },
   "outputs": [],
   "source": [
    "// Remove element from the end of the list\n",
    "numbers_list_i.pop_back();"
   ]
  },
  {
   "cell_type": "code",
   "execution_count": 57,
   "id": "829aedcb-c4e6-4125-aeec-70955428b6d0",
   "metadata": {
    "tags": []
   },
   "outputs": [
    {
     "data": {
      "text/plain": [
       "{ 0, 1, 2, 3, 4 }"
      ]
     },
     "execution_count": 57,
     "metadata": {},
     "output_type": "execute_result"
    }
   ],
   "source": [
    "numbers_list_i"
   ]
  },
  {
   "cell_type": "code",
   "execution_count": 58,
   "id": "8b8a4076-ae79-450b-a393-75533212bb58",
   "metadata": {
    "tags": []
   },
   "outputs": [],
   "source": [
    "// Add element to the begin of the list\n",
    "numbers_list_i.push_front(-1);"
   ]
  },
  {
   "cell_type": "code",
   "execution_count": 59,
   "id": "3cddc3f9-d100-4e52-9eb8-3eade533be62",
   "metadata": {
    "tags": []
   },
   "outputs": [
    {
     "data": {
      "text/plain": [
       "{ -1, 0, 1, 2, 3, 4 }"
      ]
     },
     "execution_count": 59,
     "metadata": {},
     "output_type": "execute_result"
    }
   ],
   "source": [
    "numbers_list_i"
   ]
  },
  {
   "cell_type": "code",
   "execution_count": 60,
   "id": "ac8a219f-0532-48ad-b477-846b1a706491",
   "metadata": {
    "tags": []
   },
   "outputs": [],
   "source": [
    "// Remove element from the begin of the list\n",
    "numbers_list_i.pop_front();"
   ]
  },
  {
   "cell_type": "code",
   "execution_count": 61,
   "id": "3c184728-b024-4919-970e-d874374d24e6",
   "metadata": {
    "tags": []
   },
   "outputs": [
    {
     "data": {
      "text/plain": [
       "{ 0, 1, 2, 3, 4 }"
      ]
     },
     "execution_count": 61,
     "metadata": {},
     "output_type": "execute_result"
    }
   ],
   "source": [
    "numbers_list_i"
   ]
  },
  {
   "cell_type": "code",
   "execution_count": 62,
   "id": "2ad4ead8-4b4b-40d6-98fa-e0d4121716ba",
   "metadata": {
    "tags": []
   },
   "outputs": [
    {
     "data": {
      "text/plain": [
       "5"
      ]
     },
     "execution_count": 62,
     "metadata": {},
     "output_type": "execute_result"
    }
   ],
   "source": [
    "// Check number of elements in the list\n",
    "// std::cout << numbers_list_i.size() << std::endl;\n",
    "numbers_list_i.size()"
   ]
  },
  {
   "cell_type": "code",
   "execution_count": 63,
   "id": "d0cf72ad-f37b-4a0f-8fff-16a332bd9562",
   "metadata": {
    "tags": []
   },
   "outputs": [],
   "source": [
    "// Resize the list (bigger)\n",
    "numbers_list_i.resize(10);"
   ]
  },
  {
   "cell_type": "code",
   "execution_count": 64,
   "id": "1a42be69-8ff5-4020-89d7-eff69a3c06e8",
   "metadata": {
    "tags": []
   },
   "outputs": [
    {
     "data": {
      "text/plain": [
       "{ 0, 1, 2, 3, 4, 0, 0, 0, 0, 0 }"
      ]
     },
     "execution_count": 64,
     "metadata": {},
     "output_type": "execute_result"
    }
   ],
   "source": [
    "numbers_list_i"
   ]
  },
  {
   "cell_type": "code",
   "execution_count": 65,
   "id": "2d4a4d50-9040-40e6-afbe-1328776c3a8b",
   "metadata": {
    "tags": []
   },
   "outputs": [],
   "source": [
    "// Resize the list (bigger)\n",
    "numbers_list_i.resize(3);"
   ]
  },
  {
   "cell_type": "code",
   "execution_count": 66,
   "id": "c45e7305-6707-4abf-b86b-95d5fab94695",
   "metadata": {
    "tags": []
   },
   "outputs": [
    {
     "data": {
      "text/plain": [
       "{ 0, 1, 2 }"
      ]
     },
     "execution_count": 66,
     "metadata": {},
     "output_type": "execute_result"
    }
   ],
   "source": [
    "numbers_list_i"
   ]
  },
  {
   "cell_type": "code",
   "execution_count": 67,
   "id": "548a5e6c-926d-42d0-a536-b3a42bcfe2ae",
   "metadata": {
    "tags": []
   },
   "outputs": [
    {
     "name": "stdout",
     "output_type": "stream",
     "text": [
      "0\n",
      "2\n"
     ]
    },
    {
     "data": {
      "text/plain": [
       "@0x7fb1460b94e0"
      ]
     },
     "execution_count": 67,
     "metadata": {},
     "output_type": "execute_result"
    }
   ],
   "source": [
    "// Element access by front/back\n",
    "std::cout << numbers_list_i.front() << std::endl; // The first element\n",
    "std::cout << numbers_list_i.back() << std::endl; // The last element\n",
    "\n",
    "// Random access not supported\n",
    "// numbers_list_i[0] // error: type 'std::list<int>' does not provide a subscript operator"
   ]
  },
  {
   "cell_type": "markdown",
   "id": "3c94fa0a-08f7-4354-9cd9-63e2ba57faad",
   "metadata": {
    "tags": [],
    "toc-hr-collapsed": true
   },
   "source": [
    "### [std::map](https://en.cppreference.com/w/cpp/container/map)\n",
    "\n",
    "- std::map is an associative container of elements, each element has own unique key (id)\n",
    "- the element is a <key, value> [pair](https://en.cppreference.com/w/cpp/utility/pair)\n",
    "- the elements are sorted\n",
    "- usually implemented as a [\"red-black\" tree](https://en.wikipedia.org/wiki/Red%E2%80%93black_tree)\n",
    "\n",
    "<div cont_vis_map>\n",
    "<img src=\"img/containers/map_draw.png\" width=\"22%\"/>\n",
    "</div>\n"
   ]
  },
  {
   "cell_type": "markdown",
   "id": "917b0ed2-f12f-45b6-b405-6e02841c0731",
   "metadata": {
    "tags": []
   },
   "source": [
    "<div std::map>\n",
    "<img src=\"img/map_modifiers.png\" width=\"50%\"/>\n",
    "</div>\n",
    "<br> src: https://en.cppreference.com/w/cpp/container/map"
   ]
  },
  {
   "cell_type": "code",
   "execution_count": 68,
   "id": "1d80694c-4001-42b9-9612-b7ae99ae7839",
   "metadata": {
    "tags": []
   },
   "outputs": [],
   "source": [
    "#include <map>  // For std::map"
   ]
  },
  {
   "cell_type": "code",
   "execution_count": 69,
   "id": "5b0e987a-fd57-4ab0-8813-ffde154ab14a",
   "metadata": {
    "tags": []
   },
   "outputs": [],
   "source": [
    "// Example std::map\n",
    "// sorted by (unique) key, the next element with duplicated key is not inserted\n",
    "std::map<std::string, int> users_age{{\"Bruno\", 23},  {\"Anna\", 23}, {\"Diana\", 20}, {\"Anna\", 24}}; "
   ]
  },
  {
   "cell_type": "code",
   "execution_count": 70,
   "id": "40dbe293-9727-4461-85e8-8dcccaaec7e4",
   "metadata": {
    "tags": []
   },
   "outputs": [
    {
     "data": {
      "text/plain": [
       "{ \"Anna\" => 23, \"Bruno\" => 23, \"Diana\" => 20 }"
      ]
     },
     "execution_count": 70,
     "metadata": {},
     "output_type": "execute_result"
    }
   ],
   "source": [
    "users_age"
   ]
  },
  {
   "cell_type": "code",
   "execution_count": 71,
   "id": "d1eaf52e-cbd4-4128-b991-3733330fd68a",
   "metadata": {
    "tags": []
   },
   "outputs": [
    {
     "name": "stdout",
     "output_type": "stream",
     "text": [
      "20\n"
     ]
    },
    {
     "data": {
      "text/plain": [
       "@0x7fb1460b94e0"
      ]
     },
     "execution_count": 71,
     "metadata": {},
     "output_type": "execute_result"
    }
   ],
   "source": [
    " // Get element by key using []\n",
    "std::cout << users_age[\"Diana\"] << std::endl; // access by Key gives the corresponding Value"
   ]
  },
  {
   "cell_type": "code",
   "execution_count": 72,
   "id": "b0abda81-5f6c-4f5a-b703-f88bfbcf3fb9",
   "metadata": {
    "tags": []
   },
   "outputs": [
    {
     "name": "stdout",
     "output_type": "stream",
     "text": [
      "20\n"
     ]
    },
    {
     "data": {
      "text/plain": [
       "@0x7fb1460b94e0"
      ]
     },
     "execution_count": 72,
     "metadata": {},
     "output_type": "execute_result"
    }
   ],
   "source": [
    " // Get element by key using .at()\n",
    "std::cout << users_age.at(\"Diana\") << std::endl; // access by Key gives the corresponding Value"
   ]
  },
  {
   "cell_type": "code",
   "execution_count": 73,
   "id": "02695452-4ada-489d-a55f-38dc296deb30",
   "metadata": {
    "tags": []
   },
   "outputs": [
    {
     "name": "stdout",
     "output_type": "stream",
     "text": [
      "Anna\n",
      "23\n"
     ]
    },
    {
     "data": {
      "text/plain": [
       "@0x7fb1460b94e0"
      ]
     },
     "execution_count": 73,
     "metadata": {},
     "output_type": "execute_result"
    }
   ],
   "source": [
    " // Get element at the begin\n",
    "auto pair_it = users_age.begin();\n",
    "std::cout << (*pair_it).first << std::endl; // .first gives a Key\n",
    "std::cout << (*pair_it).second << std::endl; // .second gives a Value"
   ]
  },
  {
   "cell_type": "code",
   "execution_count": 74,
   "id": "da53fa9b-3133-4612-ab69-8cf31a4550c2",
   "metadata": {
    "tags": []
   },
   "outputs": [
    {
     "name": "stdout",
     "output_type": "stream",
     "text": [
      "5\n"
     ]
    },
    {
     "data": {
      "text/plain": [
       "@0x7fb1460b94e0"
      ]
     },
     "execution_count": 74,
     "metadata": {},
     "output_type": "execute_result"
    }
   ],
   "source": [
    " // Update element\n",
    "users_age[\"Diana\"] = 5;\n",
    "std::cout << users_age[\"Diana\"] << std::endl; // access by Key gives the corresponding Value"
   ]
  },
  {
   "cell_type": "code",
   "execution_count": 75,
   "id": "273b499a-4d13-4b0f-aea5-9dc4ad2dbf1d",
   "metadata": {
    "tags": []
   },
   "outputs": [
    {
     "name": "stdout",
     "output_type": "stream",
     "text": [
      "13\n"
     ]
    },
    {
     "data": {
      "text/plain": [
       "@0x7fb1460b94e0"
      ]
     },
     "execution_count": 75,
     "metadata": {},
     "output_type": "execute_result"
    }
   ],
   "source": [
    " // Add element (if doesn't exist)\n",
    "users_age[\"Cloe\"] = 13;\n",
    "std::cout << users_age[\"Cloe\"] << std::endl; // access by Key gives the corresponding Value"
   ]
  },
  {
   "cell_type": "code",
   "execution_count": 76,
   "id": "0778d10a-4683-47b2-971a-0ffbccd5734e",
   "metadata": {
    "tags": []
   },
   "outputs": [
    {
     "data": {
      "text/plain": [
       "{ \"Anna\" => 23, \"Bruno\" => 23, \"Cloe\" => 13, \"Diana\" => 5 }"
      ]
     },
     "execution_count": 76,
     "metadata": {},
     "output_type": "execute_result"
    }
   ],
   "source": [
    "users_age"
   ]
  },
  {
   "cell_type": "code",
   "execution_count": 77,
   "id": "03953223-cccf-45a4-b977-aa379f7d5a71",
   "metadata": {
    "tags": []
   },
   "outputs": [
    {
     "name": "stdout",
     "output_type": "stream",
     "text": [
      "27\n",
      "33\n"
     ]
    },
    {
     "data": {
      "text/plain": [
       "@0x7fb1460b94e0"
      ]
     },
     "execution_count": 77,
     "metadata": {},
     "output_type": "execute_result"
    }
   ],
   "source": [
    "// Add element by insert\n",
    "// Returns a pair of iterator and insertion_status\n",
    "users_age.insert({\"Kate\", 27}); // std::pair and types are deduced\n",
    "users_age.insert(std::pair{\"Paul\", 33}); // std::pair<string, int> \n",
    "\n",
    "std::cout << users_age[\"Kate\"] << std::endl; // access by Key gives the corresponding Value\n",
    "std::cout << users_age[\"Paul\"] << std::endl; // access by Key gives the corresponding Value"
   ]
  },
  {
   "cell_type": "code",
   "execution_count": 78,
   "id": "45bed3a0-18be-4c5c-b4f5-d0ea12ac820d",
   "metadata": {
    "tags": []
   },
   "outputs": [
    {
     "name": "stdout",
     "output_type": "stream",
     "text": [
      "Insertion status: 0\n",
      "Inserted elememt position: 4\n"
     ]
    }
   ],
   "source": [
    "// Add element by insert\n",
    "// Returns a pair of iterator and status\n",
    "auto insert_result_kate = users_age.insert({\"Kate\", 17});\n",
    "std::cout << \"Insertion status: \" << int(insert_result_kate.second) << std::endl;\n",
    "std::cout << \"Inserted elememt position: \" << std::distance(users_age.begin(), insert_result_kate.first) << std::endl;"
   ]
  },
  {
   "cell_type": "code",
   "execution_count": 79,
   "id": "105779a1-945a-4e7b-94cc-ac48d34870a3",
   "metadata": {
    "tags": []
   },
   "outputs": [
    {
     "name": "stdout",
     "output_type": "stream",
     "text": [
      "Insertion status: 1\n",
      "Inserted elememt position: 6\n"
     ]
    }
   ],
   "source": [
    "// Add element by emplace\n",
    "// Returns a pair of iterator and status\n",
    "\n",
    "auto insert_result_tom = users_age.emplace(\"Tom\", 30);\n",
    "std::cout << \"Insertion status: \" << int(insert_result_tom.second) << std::endl;\n",
    "std::cout << \"Inserted elememt position: \" << std::distance(users_age.begin(), insert_result_tom.first) << std::endl;"
   ]
  },
  {
   "cell_type": "code",
   "execution_count": 80,
   "id": "847f85c6-88aa-46f0-b23d-e26705eed0e6",
   "metadata": {
    "tags": []
   },
   "outputs": [
    {
     "data": {
      "text/plain": [
       "{ \"Anna\" => 23, \"Bruno\" => 23, \"Cloe\" => 13, \"Diana\" => 5, \"Kate\" => 27, \"Paul\" => 33, \"Tom\" => 30 }"
      ]
     },
     "execution_count": 80,
     "metadata": {},
     "output_type": "execute_result"
    }
   ],
   "source": [
    " users_age"
   ]
  },
  {
   "cell_type": "code",
   "execution_count": 81,
   "id": "0453b207-8e28-4a56-9a3a-6619e798fb1a",
   "metadata": {
    "tags": []
   },
   "outputs": [
    {
     "name": "stdout",
     "output_type": "stream",
     "text": [
      "0\n"
     ]
    }
   ],
   "source": [
    "// Trying to access not existing element by [], results with insertion of default value under the provided key\n",
    "std::cout << users_age[\"Kelly\"] << std::endl;"
   ]
  },
  {
   "cell_type": "code",
   "execution_count": 82,
   "id": "21fb60db-969e-4a34-975f-ba7f432e05a4",
   "metadata": {
    "tags": []
   },
   "outputs": [
    {
     "data": {
      "text/plain": [
       "{ \"Anna\" => 23, \"Bruno\" => 23, \"Cloe\" => 13, \"Diana\" => 5, \"Kate\" => 27, \"Kelly\" => 0, \"Paul\" => 33, \"Tom\" => 30 }"
      ]
     },
     "execution_count": 82,
     "metadata": {},
     "output_type": "execute_result"
    }
   ],
   "source": [
    "users_age"
   ]
  },
  {
   "cell_type": "code",
   "execution_count": 83,
   "id": "f93d9556-cc9c-4dec-a689-6046926cf035",
   "metadata": {
    "tags": []
   },
   "outputs": [],
   "source": [
    "// Trying to access not existing element by .at(), results with error\n",
    "// std::cout << users_age.at(\"Joe\") << std::endl; // Error, std::out_of_range exception is thrown"
   ]
  },
  {
   "cell_type": "markdown",
   "id": "1b135711-d8ca-4d3d-9545-dd6e6629f6c3",
   "metadata": {
    "tags": [],
    "toc-hr-collapsed": true
   },
   "source": [
    "### [std::set](https://en.cppreference.com/w/cpp/container/set)\n",
    "\n",
    "- std::set is an associative container with unique elements\n",
    "- the element value is also the key\n",
    "- the elements are sorted\n",
    "- usually implemented as a [\"red-black\" tree](https://en.wikipedia.org/wiki/Red%E2%80%93black_tree)\n",
    "\n",
    "<div cont_vis_set>\n",
    "<img src=\"img/containers/set_draw.png\" width=\"22%\"/>\n",
    "</div>\n"
   ]
  },
  {
   "cell_type": "markdown",
   "id": "98d7d012-1350-4812-ad4b-9c49219d8e9d",
   "metadata": {
    "tags": []
   },
   "source": [
    "<div std::set>\n",
    "<img src=\"img/modifiers_set.png\" width=\"50%\"/>\n",
    "</div>\n",
    "<br> src: https://en.cppreference.com/w/cpp/container/set\n"
   ]
  },
  {
   "cell_type": "code",
   "execution_count": 84,
   "id": "6720d975-ccf3-494a-8923-153db36396d2",
   "metadata": {
    "tags": []
   },
   "outputs": [],
   "source": [
    "#include <set>  // For std::set"
   ]
  },
  {
   "cell_type": "markdown",
   "id": "39b1a8a0-4fef-4d35-a25f-ba192c76f9fc",
   "metadata": {},
   "source": [
    "\n"
   ]
  },
  {
   "cell_type": "code",
   "execution_count": 85,
   "id": "ceb0cb4b-063e-47c3-b564-a83d5759e325",
   "metadata": {},
   "outputs": [
    {
     "data": {
      "text/plain": [
       "{ \"Anna\", \"Bruno\", \"Diana\" }"
      ]
     },
     "execution_count": 85,
     "metadata": {},
     "output_type": "execute_result"
    }
   ],
   "source": [
    "// Example of std::set\n",
    "// unique sorted elements, the next element duplicated element is not inserted\n",
    "std::set<std::string> users_names{\"Bruno\", \"Anna\", \"Diana\", \"Anna\"}; // sorted\n",
    "users_names"
   ]
  },
  {
   "cell_type": "code",
   "execution_count": 86,
   "id": "a131ba9a-ddd3-427e-829a-6d59566db619",
   "metadata": {},
   "outputs": [
    {
     "data": {
      "text/plain": [
       "{ -3, 1, 2, 3, 5 }"
      ]
     },
     "execution_count": 86,
     "metadata": {},
     "output_type": "execute_result"
    }
   ],
   "source": [
    "// unique sorted elements, the next element duplicated element is not inserted\n",
    "std::vector<int> duplicated_numbers{-3, 5, 2, 2, 1, 3};\n",
    "std::set<int> unique_numbers(duplicated_numbers.cbegin(), duplicated_numbers.cend()); // sorted\n",
    "unique_numbers"
   ]
  },
  {
   "cell_type": "code",
   "execution_count": 87,
   "id": "08b81832-b1e6-4d1a-a72d-1adf2d2076cd",
   "metadata": {
    "tags": []
   },
   "outputs": [],
   "source": [
    "// No available access by [] or .at\n",
    "// users_names[\"Diana\"]; // error, no viable overloaded operator[]\n",
    "// users_names.at(\"Diana\"); // error, no member named 'at'"
   ]
  },
  {
   "cell_type": "code",
   "execution_count": 88,
   "id": "ca4f499f-d1df-4d4c-a6e4-eac24c7a2c39",
   "metadata": {
    "tags": []
   },
   "outputs": [
    {
     "name": "stdout",
     "output_type": "stream",
     "text": [
      "-3\n"
     ]
    }
   ],
   "source": [
    " // Get element at the begin\n",
    "std::cout << (*unique_numbers.begin()) << std::endl;"
   ]
  },
  {
   "cell_type": "code",
   "execution_count": 89,
   "id": "d79ab185-cf34-47a9-81d7-921dbce89220",
   "metadata": {
    "tags": []
   },
   "outputs": [
    {
     "name": "stdout",
     "output_type": "stream",
     "text": [
      "1\n",
      "0\n"
     ]
    }
   ],
   "source": [
    "// .count() as the elements are unique, returns 0 or 1\n",
    "std::cout << unique_numbers.count(2) << std::endl;\n",
    "std::cout << unique_numbers.count(10) << std::endl;"
   ]
  }
 ],
 "metadata": {
  "kernelspec": {
   "display_name": "C++17",
   "language": "C++17",
   "name": "xcpp17"
  },
  "language_info": {
   "codemirror_mode": "text/x-c++src",
   "file_extension": ".cpp",
   "mimetype": "text/x-c++src",
   "name": "c++",
   "version": "17"
  },
  "toc-autonumbering": false,
  "toc-showcode": false,
  "toc-showmarkdowntxt": false,
  "toc-showtags": false
 },
 "nbformat": 4,
 "nbformat_minor": 5
}
